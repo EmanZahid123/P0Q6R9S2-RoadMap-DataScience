{
 "cells": [
  {
   "cell_type": "markdown",
   "id": "ef255bb1",
   "metadata": {},
   "source": [
    "<img src=\"images/s19.png\">"
   ]
  },
  {
   "cell_type": "code",
   "execution_count": null,
   "id": "18c2f956",
   "metadata": {},
   "outputs": [],
   "source": []
  },
  {
   "cell_type": "code",
   "execution_count": null,
   "id": "a671000a",
   "metadata": {},
   "outputs": [],
   "source": []
  },
  {
   "cell_type": "markdown",
   "id": "a45d4ee9",
   "metadata": {},
   "source": [
    "## Learning agenda of this notebook\n",
    "\n",
    "- Introduction to Python(Why, and what Python)\n",
    "- Code Editor and IDE, why jupyter Notebook?\n",
    "- Variables in Python\n",
    "- Datatypes and Operators\n",
    "- String data structure "
   ]
  },
  {
   "cell_type": "code",
   "execution_count": null,
   "id": "67c972fe",
   "metadata": {},
   "outputs": [],
   "source": []
  },
  {
   "cell_type": "code",
   "execution_count": null,
   "id": "f8d062b1",
   "metadata": {},
   "outputs": [],
   "source": []
  },
  {
   "cell_type": "code",
   "execution_count": null,
   "id": "13de3417",
   "metadata": {},
   "outputs": [],
   "source": [
    "# C++ -> Compile -> Execute \n",
    "# Python -> Execute(Interpreted)"
   ]
  },
  {
   "cell_type": "markdown",
   "id": "5f5f4b0c",
   "metadata": {},
   "source": [
    "<h2 align=center style=\"color:red;\">  Introduction to Python  </h2>\n",
    "\n",
    "#### History\n",
    "\n",
    "- Python is an interpreted, general-purpose, high-level programming language developed by Guido van Rossum\n",
    "- Version 1.0 was released in 1994, with features like exception handling, lambda, map, filter, and reduce. •\n",
    "- Version 2.0 was released in 2000 with features including, list comprehensions and garbage collection. \n",
    "- Version 3.0 was released in 2008. \n",
    "- Version 3.9.6 is latest stable version released in 2021\n",
    "\n",
    "#### Key Features of Python\n",
    "\n",
    "- Python is a simple language due to its resemblance with English language, which increases its readability, writability, and makes it easy to learn. It cuts down the code about 20 percent of its actual size. 200-300 loc in Java = 50-60 loc in Python.\n",
    "- It is free and open source, which means one can freely distribute its copies, reads its source code, and modify it to experience different flavors of python.\n",
    "- Python is a high-level language, which makes programmers need not to bother about low-level details such as memory allocation etc., while practicing scripting in Python.\n",
    "- Python supports multiple programming paradigm as it provides procedural programming as well as object-oriented programming support.\n",
    "- It is a portable language as supported by many platforms like Linux, MS Windows, Mac, Free BSD, Solaris, BeOS and many more.\n",
    "- Python has extensive support for different libraries, that aims to provide assistance for performing complex tasks without starting from scratch.\n",
    "\n",
    "\n",
    "<img src=\"images/python-features.png\" height=500px width=500px>\n"
   ]
  },
  {
   "cell_type": "code",
   "execution_count": null,
   "id": "3908725f",
   "metadata": {},
   "outputs": [],
   "source": []
  },
  {
   "cell_type": "code",
   "execution_count": null,
   "id": "78eb1632",
   "metadata": {},
   "outputs": [],
   "source": []
  },
  {
   "cell_type": "markdown",
   "id": "76d06090",
   "metadata": {},
   "source": [
    "### Importance of Python\n",
    "\n",
    "<img align=\"center\" width=\"900\" height=\"800\"  src=\"images/1_RtbFZYTMO9nptOxNSQdUTw.png\" > "
   ]
  },
  {
   "cell_type": "code",
   "execution_count": null,
   "id": "7bc41c77",
   "metadata": {},
   "outputs": [],
   "source": []
  },
  {
   "cell_type": "code",
   "execution_count": null,
   "id": "2ed75023",
   "metadata": {},
   "outputs": [],
   "source": []
  },
  {
   "cell_type": "code",
   "execution_count": null,
   "id": "ade79763",
   "metadata": {},
   "outputs": [],
   "source": []
  },
  {
   "cell_type": "markdown",
   "id": "9c7567cc",
   "metadata": {},
   "source": [
    "### Important Libraries and Frame Works\n",
    "\n",
    "<img align=\"center\" width=\"600px\" height=\"500px\"  src=\"images/5.jpg\" >\n"
   ]
  },
  {
   "cell_type": "code",
   "execution_count": null,
   "id": "5f212030",
   "metadata": {},
   "outputs": [],
   "source": []
  },
  {
   "cell_type": "code",
   "execution_count": null,
   "id": "f8b55ced",
   "metadata": {},
   "outputs": [],
   "source": []
  },
  {
   "cell_type": "markdown",
   "id": "ab26afca",
   "metadata": {},
   "source": [
    "### Applications of Python\n",
    "\n",
    "- **Web Development:**\n",
    "    - Make web-applications at a rapid rate, because of frameworks it uses (Django, flask, pyramid, FASTAPI).\n",
    "- **Games Development:**\n",
    "     - Used in developing interactive games, Uses PySoy and PyGame libraries.\n",
    "- **Data Analysis:**\n",
    "     - Libraires such as NumPy and Pandas help in data analysis and data extraction.\n",
    "- **Machine Learning and AI:**\n",
    "     - Libraires such as Pandas, Scikit-learn, NumPy helps in Machine learning and AI related tasks.\n",
    "- **Web Scraping:** \n",
    "     - Pull large amount of data from websites to use in real-world processes.\n",
    "\n",
    "\n",
    "<img src=\"images/python-applications.png\" height=300px width=300px>"
   ]
  },
  {
   "cell_type": "code",
   "execution_count": null,
   "id": "527b1757",
   "metadata": {},
   "outputs": [],
   "source": []
  },
  {
   "cell_type": "code",
   "execution_count": null,
   "id": "8b9f93ab",
   "metadata": {},
   "outputs": [],
   "source": []
  },
  {
   "cell_type": "code",
   "execution_count": null,
   "id": "3ebdd0e7",
   "metadata": {},
   "outputs": [],
   "source": []
  },
  {
   "cell_type": "code",
   "execution_count": null,
   "id": "ca2dce62",
   "metadata": {},
   "outputs": [],
   "source": []
  },
  {
   "cell_type": "markdown",
   "id": "91521b7b",
   "metadata": {},
   "source": [
    "<h2 align=center style=\"color:red;\"> Introduction to Jupyter Notebook </h2>\n",
    "\n",
    "\n",
    "<img src=\"images/code_ide.png\" height=500px width=500px>\n",
    "\n",
    "#### What is Jupyter Notebook\n",
    "\n",
    "- Jupyter Notebook is an open-source, web-based interactive environment, which allows you to create and share documents that contain live code, mathematical equations, graphics, maps, plots, visualizations, and narrative text. It integrates with many programming languages like Python, PHP, R, C#, etc. Jupyter Notebook mainly used for Python because Python is used with Artificial Intelligence (AI), Machine learning, as well as Deep learning.\n",
    "- Notebook is a single document where you can run code, display the output, and also add explanations, formulas, charts, and make your work more transparent, understandable, repeatable, and shareable.\n",
    "\n",
    "#### Why to use Jupyter Notebook\n",
    "\n",
    "- Jupyter Notebook allows users to compile all aspects of a data project in one place making it easier to show the entire process of a project to your intended audience. Through the web-based application, users can create data visualizations and other components of a project to share with others via the platform."
   ]
  },
  {
   "cell_type": "code",
   "execution_count": null,
   "id": "5d15b23e",
   "metadata": {},
   "outputs": [],
   "source": []
  },
  {
   "cell_type": "code",
   "execution_count": null,
   "id": "46eec90e",
   "metadata": {},
   "outputs": [],
   "source": []
  },
  {
   "cell_type": "code",
   "execution_count": null,
   "id": "378092c1",
   "metadata": {},
   "outputs": [],
   "source": []
  },
  {
   "cell_type": "code",
   "execution_count": null,
   "id": "475fa4d6",
   "metadata": {},
   "outputs": [],
   "source": []
  },
  {
   "cell_type": "markdown",
   "id": "2959739e",
   "metadata": {},
   "source": [
    "<h2 align=center style=\"color:red;\">  Variables in Python  </h2>\n",
    "\n",
    "\n",
    "- **print() Function / Built-in function**\n",
    "- **Variables in Python**\n",
    "    - Variables Names\n",
    "    - What is variable\n",
    "    - Declaring Variables and Assigning Values\n",
    "    - Object References\n",
    "    - Object Identity\n",
    "    - Multiple Assignments\n",
    "    - Python Variables Types\n",
    "    - Delete a variable\n",
    "    - Maximum possible value of integer in python\n",
    "    - Print single and multiple variables in python\n",
    "- **Python Data Types**\n",
    "    - Immutable\n",
    "    - Mutable\n",
    "- **Input(), int(), float() functions**\n",
    "\n",
    "\n",
    "\n",
    "<img src=\"images/Python-Variables.jpg\" height=500px width=500px>\n"
   ]
  },
  {
   "cell_type": "code",
   "execution_count": null,
   "id": "339578a2",
   "metadata": {},
   "outputs": [],
   "source": []
  },
  {
   "cell_type": "code",
   "execution_count": null,
   "id": "beabef64",
   "metadata": {},
   "outputs": [],
   "source": []
  },
  {
   "cell_type": "code",
   "execution_count": null,
   "id": "4ac717c2",
   "metadata": {},
   "outputs": [],
   "source": []
  },
  {
   "cell_type": "code",
   "execution_count": null,
   "id": "e7fea253",
   "metadata": {},
   "outputs": [],
   "source": []
  },
  {
   "cell_type": "markdown",
   "id": "9da09014",
   "metadata": {},
   "source": [
    "#### Python `print()` Function\n",
    "- This function prints the given object on the screen or other standard output devices.\n",
    "\n",
    "**Syntax:**\n",
    "\n",
    "\n",
    "\n",
    "print(object(s) , sep= separator, end=end)\n",
    "\n",
    "- `object(s)`: It is an object to be printed. The Symbol * indicates that there may be more than one object.\n",
    "- `sep` ='separator' (optional): The objects are separated by sep. The default value of sep is “ ”.\n",
    "- `end` = 'end' (optional): it determines which object should be print at last.\n",
    "\n",
    "\n",
    "<img src=\"images/print-func.png\" height=500px width=500px>\n"
   ]
  },
  {
   "cell_type": "code",
   "execution_count": null,
   "id": "1941948a",
   "metadata": {},
   "outputs": [],
   "source": [
    "print(\"Learning Practical Data Science\")"
   ]
  },
  {
   "cell_type": "code",
   "execution_count": null,
   "id": "9a912c2b",
   "metadata": {},
   "outputs": [],
   "source": [
    "print('Ehtisham Sadiq')"
   ]
  },
  {
   "cell_type": "code",
   "execution_count": null,
   "id": "7075846e",
   "metadata": {},
   "outputs": [],
   "source": [
    "print(\"10\")"
   ]
  },
  {
   "cell_type": "code",
   "execution_count": null,
   "id": "e86c9463",
   "metadata": {},
   "outputs": [],
   "source": []
  },
  {
   "cell_type": "code",
   "execution_count": null,
   "id": "fd755a39",
   "metadata": {},
   "outputs": [],
   "source": []
  },
  {
   "cell_type": "code",
   "execution_count": null,
   "id": "6c59a51d",
   "metadata": {},
   "outputs": [],
   "source": []
  },
  {
   "cell_type": "markdown",
   "id": "ac07e823",
   "metadata": {},
   "source": [
    "#### 1. what is a variable and variable names\n",
    "\n",
    "- Variable is a name that is used to refer to memory location. Python variable is also known as an identifier and used to hold value.\n",
    "- In Python, we don't need to specify the type of variable because Python is a infer language and smart enough to get variable type.\n",
    "- Variable names can be a group of both the letters and digits, but they have to begin with a letter or an underscore.\n",
    "\n",
    "- It is recommended to use lowercase letters for the variable name. `name` and `NAME` both are two different variables because it is case sensitive language.\n",
    "\n",
    "\n",
    "<img src=\"images/variable-rules.jpg\" height=500px width=500px>\n",
    "    "
   ]
  },
  {
   "cell_type": "code",
   "execution_count": 59,
   "id": "84376143",
   "metadata": {},
   "outputs": [],
   "source": [
    "name = \"Ali\"\n",
    "NAME = \"Ehtisham\"\n"
   ]
  },
  {
   "cell_type": "code",
   "execution_count": 2,
   "id": "eb0461d9",
   "metadata": {},
   "outputs": [
    {
     "name": "stdout",
     "output_type": "stream",
     "text": [
      "Ali\n",
      "Ehtisham\n"
     ]
    }
   ],
   "source": [
    "print(name)\n",
    "print(NAME)\n"
   ]
  },
  {
   "cell_type": "code",
   "execution_count": 3,
   "id": "b3b3c40a",
   "metadata": {},
   "outputs": [
    {
     "name": "stdout",
     "output_type": "stream",
     "text": [
      "140038959554416\n",
      "140038959551024\n"
     ]
    }
   ],
   "source": [
    "print(id(name))\n",
    "print(id(NAME))"
   ]
  },
  {
   "cell_type": "code",
   "execution_count": null,
   "id": "452312b2",
   "metadata": {},
   "outputs": [],
   "source": []
  },
  {
   "cell_type": "code",
   "execution_count": null,
   "id": "8dd8db15",
   "metadata": {},
   "outputs": [],
   "source": []
  },
  {
   "cell_type": "code",
   "execution_count": null,
   "id": "c77ba7d6",
   "metadata": {},
   "outputs": [],
   "source": []
  },
  {
   "cell_type": "code",
   "execution_count": null,
   "id": "cb7497a3",
   "metadata": {},
   "outputs": [],
   "source": []
  },
  {
   "cell_type": "markdown",
   "id": "9f4c7ec6",
   "metadata": {},
   "source": [
    "#### 2. Declaring Variable and Assigning Values\n",
    "Python does not bind us to declare a variable before using it in the application. It allows us to create a variable at the required time.\n",
    "The equal (=) operator is used to assign value to a variable."
   ]
  },
  {
   "cell_type": "code",
   "execution_count": 5,
   "id": "1520b9e1",
   "metadata": {},
   "outputs": [],
   "source": [
    "x = 21\n",
    "y = 30\n",
    "z = 75"
   ]
  },
  {
   "cell_type": "code",
   "execution_count": 8,
   "id": "63961deb",
   "metadata": {},
   "outputs": [
    {
     "name": "stdout",
     "output_type": "stream",
     "text": [
      "21 30 75\n"
     ]
    }
   ],
   "source": [
    "print(x,y,z, sep=\" \")"
   ]
  },
  {
   "cell_type": "code",
   "execution_count": 9,
   "id": "bd0755ce",
   "metadata": {},
   "outputs": [
    {
     "name": "stdout",
     "output_type": "stream",
     "text": [
      "213075\n"
     ]
    }
   ],
   "source": [
    "print(x,y,z, sep=\"\")"
   ]
  },
  {
   "cell_type": "code",
   "execution_count": null,
   "id": "be7801e4",
   "metadata": {},
   "outputs": [],
   "source": []
  },
  {
   "cell_type": "code",
   "execution_count": 12,
   "id": "96aa3427",
   "metadata": {},
   "outputs": [],
   "source": [
    "name = \"Ehtisham Sadiq\"\n",
    "age = 21\n",
    "marks = 75.4\n",
    "city = \"Okara\"\n",
    "address = \"Pak Villas Housing Society, Near City School, Sikandar Iqbal Road,District Okara\""
   ]
  },
  {
   "cell_type": "code",
   "execution_count": 13,
   "id": "ed94936c",
   "metadata": {},
   "outputs": [
    {
     "name": "stdout",
     "output_type": "stream",
     "text": [
      "Ehtisham Sadiq\n",
      "21\n",
      "Okara\n",
      "Pak Villas Housing Society, Near City School, Sikandar Iqbal Road,District Okara\n"
     ]
    }
   ],
   "source": [
    "print(name)\n",
    "print(age)\n",
    "print(city)\n",
    "print(address)"
   ]
  },
  {
   "cell_type": "code",
   "execution_count": null,
   "id": "75b064b4",
   "metadata": {},
   "outputs": [],
   "source": []
  },
  {
   "cell_type": "code",
   "execution_count": null,
   "id": "14fd630f",
   "metadata": {},
   "outputs": [],
   "source": []
  },
  {
   "cell_type": "code",
   "execution_count": null,
   "id": "096974e2",
   "metadata": {},
   "outputs": [],
   "source": []
  },
  {
   "cell_type": "markdown",
   "id": "78f29d7d",
   "metadata": {},
   "source": [
    "#### 3. Object References\n",
    "- It is necessary to understand how the Python interpreter works when we declare a variable. The process of treating variables is somewhat different from many other programming languages.\n",
    "- In python, each variable belongs to specific data type or class.\n",
    "- To check the type of variable , we use a Python built-in `type()` function.\n",
    "- The variables are used to denote objects by that name."
   ]
  },
  {
   "cell_type": "code",
   "execution_count": 16,
   "id": "5f3cc3ac",
   "metadata": {},
   "outputs": [
    {
     "data": {
      "text/plain": [
       "float"
      ]
     },
     "execution_count": 16,
     "metadata": {},
     "output_type": "execute_result"
    }
   ],
   "source": [
    "type(marks)"
   ]
  },
  {
   "cell_type": "code",
   "execution_count": null,
   "id": "0e8db8cd",
   "metadata": {},
   "outputs": [],
   "source": []
  },
  {
   "cell_type": "code",
   "execution_count": 17,
   "id": "128b1212",
   "metadata": {},
   "outputs": [
    {
     "name": "stdout",
     "output_type": "stream",
     "text": [
      "<class 'int'>\n"
     ]
    }
   ],
   "source": [
    "a = 50\n",
    "# -infinity to +infinity\n",
    "#  the variable a refers to an integer object.\n",
    "print(type(a))"
   ]
  },
  {
   "cell_type": "markdown",
   "id": "e28c9d31",
   "metadata": {},
   "source": [
    "<img src=\"images/var-1.png\" height=200px width=200px>"
   ]
  },
  {
   "cell_type": "code",
   "execution_count": 18,
   "id": "dcb94819",
   "metadata": {},
   "outputs": [
    {
     "name": "stdout",
     "output_type": "stream",
     "text": [
      "9794656\n",
      "9794656\n"
     ]
    }
   ],
   "source": [
    "# Suppose we assign the integer value 50 to a new variable b.\n",
    "a = 50\n",
    "b = a\n",
    "print(id(a))\n",
    "print(id(b))"
   ]
  },
  {
   "cell_type": "markdown",
   "id": "c29be131",
   "metadata": {},
   "source": [
    "<img src=\"images/var-2.png\" height=200px width=200px>"
   ]
  },
  {
   "cell_type": "markdown",
   "id": "12dc1d83",
   "metadata": {},
   "source": [
    "The variable `b` refers to the same object that `a` points to, because Python does not create another object."
   ]
  },
  {
   "cell_type": "code",
   "execution_count": null,
   "id": "f2b700d9",
   "metadata": {},
   "outputs": [],
   "source": []
  },
  {
   "cell_type": "code",
   "execution_count": null,
   "id": "8609d095",
   "metadata": {},
   "outputs": [],
   "source": []
  },
  {
   "cell_type": "code",
   "execution_count": 19,
   "id": "8f48a04f",
   "metadata": {},
   "outputs": [
    {
     "name": "stdout",
     "output_type": "stream",
     "text": [
      "9794656\n",
      "9796256\n"
     ]
    }
   ],
   "source": [
    "# Let's assign the new value to b. Now both variables will refer to the different objects.\n",
    "a = 50\n",
    "b = 100\n",
    "print(id(a))\n",
    "print(id(b))"
   ]
  },
  {
   "cell_type": "markdown",
   "id": "71df37b5",
   "metadata": {},
   "source": [
    "<img src=\"images/var-3.png\" height=200px width=200px>"
   ]
  },
  {
   "cell_type": "code",
   "execution_count": null,
   "id": "5f340113",
   "metadata": {},
   "outputs": [],
   "source": []
  },
  {
   "cell_type": "code",
   "execution_count": null,
   "id": "a000f9ea",
   "metadata": {},
   "outputs": [],
   "source": []
  },
  {
   "cell_type": "markdown",
   "id": "75e4d575",
   "metadata": {},
   "source": [
    "Python manages memory efficiently if we assign the same variable to two different values."
   ]
  },
  {
   "cell_type": "code",
   "execution_count": null,
   "id": "73bef302",
   "metadata": {},
   "outputs": [],
   "source": []
  },
  {
   "cell_type": "code",
   "execution_count": null,
   "id": "038c351e",
   "metadata": {},
   "outputs": [],
   "source": []
  },
  {
   "cell_type": "markdown",
   "id": "21bb46ee",
   "metadata": {},
   "source": [
    "#### 4. Object Identity\n",
    "\n",
    "- In Python, every created object identifies uniquely in Python. Python provides the guaranteed that no two objects will have the same identifier. The built-in `id()` function, is used to identify the object identifier.\n",
    "\n",
    "<img src=\"images/object-id.png\" height=250px width=250px>"
   ]
  },
  {
   "cell_type": "code",
   "execution_count": 20,
   "id": "a72174ce",
   "metadata": {},
   "outputs": [
    {
     "name": "stdout",
     "output_type": "stream",
     "text": [
      "9794656\n",
      "9794656\n"
     ]
    }
   ],
   "source": [
    "a = 50  \n",
    "b = a  \n",
    "print(id(a))  \n",
    "print(id(b))  \n",
    "# Reassigned variable a  \n"
   ]
  },
  {
   "cell_type": "code",
   "execution_count": 21,
   "id": "ecc58cfa",
   "metadata": {},
   "outputs": [
    {
     "name": "stdout",
     "output_type": "stream",
     "text": [
      "140038823738608\n"
     ]
    }
   ],
   "source": [
    "a = 500  \n",
    "print(id(a))  "
   ]
  },
  {
   "cell_type": "code",
   "execution_count": 23,
   "id": "d339fdee",
   "metadata": {},
   "outputs": [
    {
     "name": "stdout",
     "output_type": "stream",
     "text": [
      "9794656\n"
     ]
    }
   ],
   "source": [
    "print(id(b))"
   ]
  },
  {
   "cell_type": "code",
   "execution_count": null,
   "id": "fd597ed0",
   "metadata": {},
   "outputs": [],
   "source": []
  },
  {
   "cell_type": "markdown",
   "id": "aa62a454",
   "metadata": {},
   "source": [
    "#### 5. Multiple Assignment\n",
    "Python allows us to assign a value to multiple variables in a single statement, which is also known as multiple assignments."
   ]
  },
  {
   "cell_type": "markdown",
   "id": "ffdb7dcc",
   "metadata": {},
   "source": [
    "##### Assigning single value to multiple variables"
   ]
  },
  {
   "cell_type": "code",
   "execution_count": 24,
   "id": "1a1416fb",
   "metadata": {},
   "outputs": [
    {
     "name": "stdout",
     "output_type": "stream",
     "text": [
      "30\n",
      "30\n",
      "30\n"
     ]
    }
   ],
   "source": [
    "x=y=z=30 # single statement\n",
    "print(x)\n",
    "print(y)\n",
    "print(z)"
   ]
  },
  {
   "cell_type": "code",
   "execution_count": null,
   "id": "551602fa",
   "metadata": {},
   "outputs": [],
   "source": []
  },
  {
   "cell_type": "code",
   "execution_count": null,
   "id": "1fdc2167",
   "metadata": {},
   "outputs": [],
   "source": []
  },
  {
   "cell_type": "markdown",
   "id": "8e4c0a9c",
   "metadata": {},
   "source": [
    "##### Assigning multiple values to multiple variables"
   ]
  },
  {
   "cell_type": "code",
   "execution_count": 25,
   "id": "4ffec1a6",
   "metadata": {},
   "outputs": [
    {
     "name": "stdout",
     "output_type": "stream",
     "text": [
      "Lahore\n",
      "21\n",
      "3.43\n"
     ]
    }
   ],
   "source": [
    "x , y, z = \"Lahore\", 21, 3.43 # single statement\n",
    "print(x)\n",
    "print(y)\n",
    "print(z)"
   ]
  },
  {
   "cell_type": "code",
   "execution_count": null,
   "id": "0af92b81",
   "metadata": {},
   "outputs": [],
   "source": []
  },
  {
   "cell_type": "code",
   "execution_count": null,
   "id": "f54a7d22",
   "metadata": {},
   "outputs": [],
   "source": []
  },
  {
   "cell_type": "markdown",
   "id": "3b618788",
   "metadata": {},
   "source": [
    "#### 6. Python Variables Types\n",
    "There are two types of variables in Python   \n",
    "-  Local variable    \n",
    "-  Global variable.  \n",
    "\n",
    "\n",
    "<img src=\"images/local-global-python.jpg\" height=300px width=300px>"
   ]
  },
  {
   "cell_type": "markdown",
   "id": "6bb54c0c",
   "metadata": {},
   "source": [
    "**Local Variable:**\n",
    "\n",
    "- Local variables are the variables that declared inside the function and have scope within the function."
   ]
  },
  {
   "cell_type": "code",
   "execution_count": 26,
   "id": "0ce086bd",
   "metadata": {},
   "outputs": [
    {
     "name": "stdout",
     "output_type": "stream",
     "text": [
      "The sum is: 50\n"
     ]
    }
   ],
   "source": [
    "# Declaring a function  \n",
    "def add():  \n",
    "    # Defining local variables. They has scope only within a function  \n",
    "    aa = 20  \n",
    "    bb = 30  \n",
    "    cc = aa + bb  \n",
    "    print(\"The sum is:\", cc)  \n",
    "\n",
    "    \n",
    "# Calling a function  \n",
    "add()"
   ]
  },
  {
   "cell_type": "code",
   "execution_count": null,
   "id": "44f84605",
   "metadata": {},
   "outputs": [],
   "source": []
  },
  {
   "cell_type": "code",
   "execution_count": null,
   "id": "fe0934d5",
   "metadata": {},
   "outputs": [],
   "source": []
  },
  {
   "cell_type": "code",
   "execution_count": 27,
   "id": "feceb3e6",
   "metadata": {},
   "outputs": [
    {
     "ename": "NameError",
     "evalue": "name 'aa' is not defined",
     "output_type": "error",
     "traceback": [
      "\u001b[0;31m---------------------------------------------------------------------------\u001b[0m",
      "\u001b[0;31mNameError\u001b[0m                                 Traceback (most recent call last)",
      "Cell \u001b[0;32mIn[27], line 1\u001b[0m\n\u001b[0;32m----> 1\u001b[0m \u001b[38;5;28mprint\u001b[39m(\u001b[43maa\u001b[49m)\n\u001b[1;32m      2\u001b[0m \u001b[38;5;28mprint\u001b[39m(bb)\n",
      "\u001b[0;31mNameError\u001b[0m: name 'aa' is not defined"
     ]
    }
   ],
   "source": [
    "print(aa)\n",
    "print(bb)"
   ]
  },
  {
   "cell_type": "code",
   "execution_count": null,
   "id": "3fe3a1f1",
   "metadata": {},
   "outputs": [],
   "source": []
  },
  {
   "cell_type": "code",
   "execution_count": null,
   "id": "2432fe40",
   "metadata": {},
   "outputs": [],
   "source": []
  },
  {
   "cell_type": "markdown",
   "id": "01bcb2e4",
   "metadata": {},
   "source": [
    "**Global Variable:**\n",
    "\n",
    "- Global variables can be used throughout the program, and its scope is in the entire program. We can use global variables inside or outside the function.\n",
    "- A variable declared outside the function is the global variable by default. Python provides the `global` keyword to use global variable inside the function."
   ]
  },
  {
   "cell_type": "code",
   "execution_count": 32,
   "id": "bd19cd13",
   "metadata": {},
   "outputs": [],
   "source": [
    "# Declare a variable and initialize it  \n",
    "x = 101  \n",
    "  \n",
    "# Global variable in function  \n",
    "def mainFunction():  \n",
    "    \n",
    "    # printing a global variable  \n",
    "    global x \n",
    "    \n",
    "    print(x)  \n",
    "    \n",
    "    # modifying a global variable  \n",
    "    x = 'Welcome To Python programming'  \n",
    "    print(x)  \n",
    "  \n"
   ]
  },
  {
   "cell_type": "code",
   "execution_count": 33,
   "id": "32b58fa1",
   "metadata": {},
   "outputs": [
    {
     "name": "stdout",
     "output_type": "stream",
     "text": [
      "101\n",
      "Welcome To Python programming\n"
     ]
    }
   ],
   "source": [
    "mainFunction()  \n"
   ]
  },
  {
   "cell_type": "code",
   "execution_count": 34,
   "id": "36a6acd3",
   "metadata": {},
   "outputs": [
    {
     "name": "stdout",
     "output_type": "stream",
     "text": [
      "Welcome To Python programming\n"
     ]
    }
   ],
   "source": [
    "print(x)"
   ]
  },
  {
   "cell_type": "code",
   "execution_count": null,
   "id": "c07e3bab",
   "metadata": {},
   "outputs": [],
   "source": []
  },
  {
   "cell_type": "markdown",
   "id": "a8f8d1a9",
   "metadata": {},
   "source": [
    "#### 7. Deleting a Variable\n",
    "\n",
    "- We can delete the variable using the `del` keyword."
   ]
  },
  {
   "cell_type": "code",
   "execution_count": 36,
   "id": "553ef88a",
   "metadata": {},
   "outputs": [
    {
     "name": "stdout",
     "output_type": "stream",
     "text": [
      "6\n"
     ]
    }
   ],
   "source": [
    "# Assigning a value to x  \n",
    "x = 6  \n",
    "\n",
    "print(x) \n",
    "\n",
    "\n"
   ]
  },
  {
   "cell_type": "code",
   "execution_count": 38,
   "id": "4a868542",
   "metadata": {},
   "outputs": [],
   "source": [
    "# deleting a variable.   \n",
    "del x  \n"
   ]
  },
  {
   "cell_type": "code",
   "execution_count": null,
   "id": "49cf4897",
   "metadata": {},
   "outputs": [],
   "source": []
  },
  {
   "cell_type": "code",
   "execution_count": null,
   "id": "d18945aa",
   "metadata": {},
   "outputs": [],
   "source": []
  },
  {
   "cell_type": "code",
   "execution_count": 39,
   "id": "ea16c91e",
   "metadata": {},
   "outputs": [
    {
     "ename": "NameError",
     "evalue": "name 'x' is not defined",
     "output_type": "error",
     "traceback": [
      "\u001b[0;31m---------------------------------------------------------------------------\u001b[0m",
      "\u001b[0;31mNameError\u001b[0m                                 Traceback (most recent call last)",
      "Cell \u001b[0;32mIn[39], line 1\u001b[0m\n\u001b[0;32m----> 1\u001b[0m \u001b[38;5;28mprint\u001b[39m(\u001b[43mx\u001b[49m)\n",
      "\u001b[0;31mNameError\u001b[0m: name 'x' is not defined"
     ]
    }
   ],
   "source": [
    "print(x)"
   ]
  },
  {
   "cell_type": "code",
   "execution_count": null,
   "id": "7aae9f9c",
   "metadata": {},
   "outputs": [],
   "source": []
  },
  {
   "cell_type": "code",
   "execution_count": null,
   "id": "775f5f90",
   "metadata": {},
   "outputs": [],
   "source": []
  },
  {
   "cell_type": "markdown",
   "id": "cb6269d9",
   "metadata": {},
   "source": [
    "#### 8. Maximum Possible Value of an Integer in Python\n",
    "Unlike the other programming languages, Python doesn't have long int or float data types. It treats all integer values as an int data type."
   ]
  },
  {
   "cell_type": "code",
   "execution_count": 45,
   "id": "334d9c12",
   "metadata": {},
   "outputs": [
    {
     "name": "stdout",
     "output_type": "stream",
     "text": [
      "<class 'int'>\n",
      "10000000000000000000000000000000000000000001\n"
     ]
    }
   ],
   "source": [
    "# A Python program to display that we can store large numbers in Python  \n",
    "  \n",
    "a = 10000000000000000000000000000000000000000000\n",
    "\n",
    "a = a + 1  \n",
    "print(type(a))  \n",
    "print (a) "
   ]
  },
  {
   "cell_type": "code",
   "execution_count": 46,
   "id": "6f5d2aa9",
   "metadata": {},
   "outputs": [
    {
     "data": {
      "text/plain": [
       "140038821260816"
      ]
     },
     "execution_count": 46,
     "metadata": {},
     "output_type": "execute_result"
    }
   ],
   "source": [
    "id(a)"
   ]
  },
  {
   "cell_type": "code",
   "execution_count": null,
   "id": "babc4d74",
   "metadata": {},
   "outputs": [],
   "source": []
  },
  {
   "cell_type": "code",
   "execution_count": 41,
   "id": "45c3bbf7",
   "metadata": {},
   "outputs": [
    {
     "name": "stdout",
     "output_type": "stream",
     "text": [
      "<class 'float'>\n",
      "1e+43\n"
     ]
    }
   ],
   "source": [
    "# A Python program to display that we can store large numbers in Python  \n",
    "  \n",
    "a = 10000000000000000000000000000000000000000000.12\n",
    "\n",
    "a = a + 1  \n",
    "print(type(a))  \n",
    "print (a) "
   ]
  },
  {
   "cell_type": "code",
   "execution_count": null,
   "id": "bdceeed0",
   "metadata": {},
   "outputs": [],
   "source": []
  },
  {
   "cell_type": "code",
   "execution_count": null,
   "id": "76e53e74",
   "metadata": {},
   "outputs": [],
   "source": []
  },
  {
   "cell_type": "markdown",
   "id": "d92ec1ac",
   "metadata": {},
   "source": [
    "Python doesn't have any special data type to store larger numbers."
   ]
  },
  {
   "cell_type": "code",
   "execution_count": null,
   "id": "f2d90b15",
   "metadata": {},
   "outputs": [],
   "source": []
  },
  {
   "cell_type": "code",
   "execution_count": null,
   "id": "d0e208a4",
   "metadata": {},
   "outputs": [],
   "source": []
  },
  {
   "cell_type": "markdown",
   "id": "fb5ece01",
   "metadata": {},
   "source": [
    "#### 9. Print Single and Multiple Variables in Python\n",
    "We can print multiple variables within the single print statement."
   ]
  },
  {
   "cell_type": "code",
   "execution_count": 42,
   "id": "461cd4f9",
   "metadata": {},
   "outputs": [
    {
     "name": "stdout",
     "output_type": "stream",
     "text": [
      "5\n",
      "5\n"
     ]
    }
   ],
   "source": [
    "# printing single value   \n",
    "a = 5  \n",
    "print(a)  \n",
    "print((a))  "
   ]
  },
  {
   "cell_type": "code",
   "execution_count": 43,
   "id": "b2d850e5",
   "metadata": {},
   "outputs": [
    {
     "name": "stdout",
     "output_type": "stream",
     "text": [
      "5 6\n"
     ]
    }
   ],
   "source": [
    "a = 5  \n",
    "b = 6  \n",
    "# printing multiple variables  \n",
    "print(a,b)  \n"
   ]
  },
  {
   "cell_type": "code",
   "execution_count": 44,
   "id": "976597a9",
   "metadata": {},
   "outputs": [
    {
     "name": "stdout",
     "output_type": "stream",
     "text": [
      "1 2 3 4 5 6 7 8\n"
     ]
    }
   ],
   "source": [
    "# separate the variables by the comma  \n",
    "print(1, 2, 3, 4, 5, 6, 7, 8)"
   ]
  },
  {
   "cell_type": "code",
   "execution_count": null,
   "id": "c7dcb2bb",
   "metadata": {},
   "outputs": [],
   "source": []
  },
  {
   "cell_type": "code",
   "execution_count": null,
   "id": "dd7b461c",
   "metadata": {},
   "outputs": [],
   "source": []
  },
  {
   "cell_type": "markdown",
   "id": "525deb26",
   "metadata": {},
   "source": [
    "<h1 align=\"center\" style = \"color:red\">Python Data Types</h1>\n",
    "\n",
    "\n",
    "<img src=\"images/7.jpeg\" height=400px width=400px>"
   ]
  },
  {
   "cell_type": "markdown",
   "id": "a0843e1e",
   "metadata": {},
   "source": [
    "- Variables can hold values, and every value has a data-type. Python is a dynamically typed language; hence we do not need to define the type of the variable while declaring it. The interpreter implicitly binds the value with its type.\n",
    "- The variable `a` holds integer value `five` and we did not define its type. Python interpreter will automatically interpret variables `a` as an integer type."
   ]
  },
  {
   "cell_type": "code",
   "execution_count": 48,
   "id": "ea1c2a63",
   "metadata": {},
   "outputs": [],
   "source": [
    "x = 5\n",
    "a = 10  \n",
    "b = \"Hi Python\"  \n",
    "c = 10.5  \n"
   ]
  },
  {
   "cell_type": "code",
   "execution_count": 49,
   "id": "418cab07",
   "metadata": {},
   "outputs": [
    {
     "name": "stdout",
     "output_type": "stream",
     "text": [
      "<class 'int'>\n",
      "<class 'str'>\n",
      "<class 'float'>\n",
      "<class 'int'>\n"
     ]
    }
   ],
   "source": [
    "print(type(a))  \n",
    "print(type(b))  \n",
    "print(type(c))  \n",
    "print(type(x))"
   ]
  },
  {
   "cell_type": "code",
   "execution_count": null,
   "id": "3b2a73ac",
   "metadata": {},
   "outputs": [],
   "source": []
  },
  {
   "cell_type": "markdown",
   "id": "8cb85920",
   "metadata": {},
   "source": [
    "- A variable can hold different types of values. **For example**, a person's name must be stored as a string whereas its id must be stored as an integer.\n",
    "- Python provides various standard data types that define the storage method on each of them."
   ]
  },
  {
   "cell_type": "code",
   "execution_count": null,
   "id": "fadb1095",
   "metadata": {},
   "outputs": [],
   "source": []
  },
  {
   "cell_type": "code",
   "execution_count": null,
   "id": "5d6a7684",
   "metadata": {},
   "outputs": [],
   "source": []
  },
  {
   "cell_type": "markdown",
   "id": "69e36514",
   "metadata": {},
   "source": [
    "#### Numbers:\n",
    "Number stores numeric values. The `integer`, `float`, and `complex` values belong to a Python `Numbers` data-type. Python provides the `type()` function to know the data-type of the variable.\n",
    "\n",
    "\n",
    "<img src=\"images/numbers-in-python--image.webp\" height=500px width=500px>"
   ]
  },
  {
   "cell_type": "code",
   "execution_count": 50,
   "id": "64fdca05",
   "metadata": {},
   "outputs": [
    {
     "name": "stdout",
     "output_type": "stream",
     "text": [
      "The type of a <class 'int'>\n",
      "The type of b <class 'float'>\n",
      "The type of c <class 'complex'>\n"
     ]
    }
   ],
   "source": [
    "a = 5  \n",
    "print(\"The type of a\", type(a))  \n",
    "  \n",
    "b = 40.5  \n",
    "print(\"The type of b\", type(b))  \n",
    "  \n",
    "c = 1+3j  \n",
    "print(\"The type of c\", type(c))  "
   ]
  },
  {
   "cell_type": "code",
   "execution_count": null,
   "id": "56d8ae12",
   "metadata": {},
   "outputs": [],
   "source": []
  },
  {
   "cell_type": "code",
   "execution_count": null,
   "id": "7b52489c",
   "metadata": {},
   "outputs": [],
   "source": []
  },
  {
   "cell_type": "code",
   "execution_count": null,
   "id": "6980f1df",
   "metadata": {},
   "outputs": [],
   "source": []
  },
  {
   "cell_type": "markdown",
   "id": "60a5b978",
   "metadata": {},
   "source": [
    "Python supports three types of numeric data.\n",
    "\n",
    "1. **Int** - Integer value can be any length such as integers 10, 2, 29, -20, -150 etc. Python has no restriction on the length of an integer. Its value belongs to int\n",
    "2. **Float** - Float is used to store floating-point numbers like 1.9, 9.902, 15.2, etc. It is accurate upto 15 decimal points.\n",
    "3. **complex** - A complex number contains an ordered pair, i.e., x + iy where x and y denote the real and imaginary parts, respectively. The complex numbers like 2.14j, 2.0 + 2.3j, etc.\n",
    "4. **Boolean:** Also known as bool data type allows us to choose between two values: True and False. Booleans have the type bool. A Boolean is used to determine whether the logic of an expression or a comparison is correct. It plays a huge role in data comparisons."
   ]
  },
  {
   "cell_type": "code",
   "execution_count": 51,
   "id": "2ff41821",
   "metadata": {},
   "outputs": [
    {
     "name": "stdout",
     "output_type": "stream",
     "text": [
      "False\n"
     ]
    }
   ],
   "source": [
    "print(5<2)"
   ]
  },
  {
   "cell_type": "code",
   "execution_count": 52,
   "id": "62863db8",
   "metadata": {},
   "outputs": [
    {
     "name": "stdout",
     "output_type": "stream",
     "text": [
      "<class 'int'>\n",
      "<class 'float'>\n",
      "<class 'complex'>\n",
      "<class 'bool'>\n"
     ]
    }
   ],
   "source": [
    "w = 10\n",
    "x = 20.5\n",
    "y = complex(3, 2)  \n",
    "y = 3 + 2j\n",
    "z = True\n",
    "print(type(w))\n",
    "print(type(x))\n",
    "print(type(y))\n",
    "print(type(z))"
   ]
  },
  {
   "cell_type": "code",
   "execution_count": 53,
   "id": "593b7117",
   "metadata": {},
   "outputs": [
    {
     "name": "stdout",
     "output_type": "stream",
     "text": [
      "True\n",
      "<class 'bool'>\n"
     ]
    }
   ],
   "source": [
    "# Example of Boolean data type \n",
    "y = 10 < 100\n",
    "print(y)\n",
    "print(type(y))"
   ]
  },
  {
   "cell_type": "code",
   "execution_count": null,
   "id": "a7c40482",
   "metadata": {},
   "outputs": [],
   "source": []
  },
  {
   "cell_type": "code",
   "execution_count": null,
   "id": "6c0bb670",
   "metadata": {},
   "outputs": [],
   "source": []
  },
  {
   "cell_type": "code",
   "execution_count": 54,
   "id": "5ab69ebb",
   "metadata": {},
   "outputs": [
    {
     "name": "stdout",
     "output_type": "stream",
     "text": [
      "True\n",
      "False\n"
     ]
    }
   ],
   "source": [
    "a = True\n",
    "print(a)\n",
    "b = False\n",
    "print(b)"
   ]
  },
  {
   "cell_type": "code",
   "execution_count": 55,
   "id": "3286e612",
   "metadata": {},
   "outputs": [
    {
     "name": "stdout",
     "output_type": "stream",
     "text": [
      "True\n",
      "False\n",
      "True\n",
      "False\n"
     ]
    }
   ],
   "source": [
    "# In Python, True represents the value as 1 and False as 0. \n",
    "print(bool(1))\n",
    "print(bool(0))\n",
    "\n",
    "print(bool(True))\n",
    "print(bool(False))"
   ]
  },
  {
   "cell_type": "code",
   "execution_count": null,
   "id": "e0380a61",
   "metadata": {},
   "outputs": [],
   "source": []
  },
  {
   "cell_type": "code",
   "execution_count": null,
   "id": "9f49f895",
   "metadata": {},
   "outputs": [],
   "source": []
  },
  {
   "cell_type": "code",
   "execution_count": null,
   "id": "99cdd5b9",
   "metadata": {},
   "outputs": [],
   "source": []
  },
  {
   "cell_type": "markdown",
   "id": "f3cf96aa",
   "metadata": {},
   "source": [
    "## 3. Conversion/Type Casting\n",
    "- **Implicit Type Conversion:** While performing arithmetic operations, integers are automatically converted to `float` if any of the operands is a `float`. Also, the division operator `/` always returns a `float`, even if both operands are integers. Use the `//` operator if you want the result of the division to be an `int`.\n",
    "- **Explicit Type Conversion or Type Casting** refers to the conversion of an object from one data type to another"
   ]
  },
  {
   "cell_type": "code",
   "execution_count": null,
   "id": "9a62b64c",
   "metadata": {},
   "outputs": [],
   "source": [
    "age = 21\n",
    "marks = 74.2\n",
    "c = age+marks\n",
    "print(c)"
   ]
  },
  {
   "cell_type": "code",
   "execution_count": null,
   "id": "576b6a22",
   "metadata": {},
   "outputs": [],
   "source": [
    "number1 = 63\n",
    "number2 = 8\n",
    "print(number1/number2)\n",
    "print(number1//number2)"
   ]
  },
  {
   "cell_type": "code",
   "execution_count": null,
   "id": "b3088436",
   "metadata": {},
   "outputs": [],
   "source": [
    "age = 21\n",
    "name = \"Ehtisham\"\n",
    "print(str(age)+name)"
   ]
  },
  {
   "cell_type": "markdown",
   "id": "db73464d",
   "metadata": {},
   "source": [
    "### a. Implicit Type Conversion"
   ]
  },
  {
   "cell_type": "code",
   "execution_count": null,
   "id": "fc79b30a",
   "metadata": {},
   "outputs": [],
   "source": [
    "a = 2 + 3\n",
    "b = 2 + 3.0\n",
    "type(a), type(b)"
   ]
  },
  {
   "cell_type": "code",
   "execution_count": null,
   "id": "4ee8855e",
   "metadata": {},
   "outputs": [],
   "source": [
    "a = 3 * 5\n",
    "b = 3 * 5.0\n",
    "type(a), type(b)"
   ]
  },
  {
   "cell_type": "code",
   "execution_count": null,
   "id": "698c40c9",
   "metadata": {},
   "outputs": [],
   "source": [
    "a = 4/2\n",
    "b = 4/2.0\n",
    "print(type(a), type(b))\n",
    "print(a,b)"
   ]
  },
  {
   "cell_type": "markdown",
   "id": "124302de",
   "metadata": {},
   "source": [
    "### Explicit Type Conversion (Type Casting)"
   ]
  },
  {
   "cell_type": "markdown",
   "id": "31dc3555",
   "metadata": {},
   "source": [
    "####  Convert to Integer using ` int (a)`  function"
   ]
  },
  {
   "cell_type": "markdown",
   "id": "f0c0481d",
   "metadata": {},
   "source": [
    "### int() Function:    \n",
    "    The int() method is used to convert a string to an integer in Python. This can be useful if you need to store a value as an integer or perform mathematical operations on a value stored as a string."
   ]
  },
  {
   "cell_type": "code",
   "execution_count": null,
   "id": "12ad7e28",
   "metadata": {},
   "outputs": [],
   "source": [
    "a = \"32\"\n",
    "b = 45\n",
    "print(type(a), type(b))\n",
    "c = int(a)+b\n",
    "print(c)"
   ]
  },
  {
   "cell_type": "markdown",
   "id": "e9567bba",
   "metadata": {},
   "source": [
    "### float() Function:\n",
    "     The float() method is a built-in Python function that is used to convert an integer or a string to a floating-point value."
   ]
  },
  {
   "cell_type": "code",
   "execution_count": null,
   "id": "fbd5de9e",
   "metadata": {},
   "outputs": [],
   "source": [
    "a = 5\n",
    "b =8\n",
    "c = a+b\n",
    "print(c)\n",
    "print(float(c))"
   ]
  },
  {
   "cell_type": "markdown",
   "id": "cf48059d",
   "metadata": {},
   "source": [
    "### str() Function\n",
    "     The str() function converts the specified value into a string."
   ]
  },
  {
   "cell_type": "code",
   "execution_count": null,
   "id": "b810a427",
   "metadata": {},
   "outputs": [],
   "source": [
    "x = '21'\n",
    "print(type(x), x)"
   ]
  },
  {
   "cell_type": "code",
   "execution_count": null,
   "id": "5ed5d194",
   "metadata": {},
   "outputs": [],
   "source": [
    "y = int(x)\n",
    "type(y), y"
   ]
  },
  {
   "cell_type": "code",
   "execution_count": null,
   "id": "51148807",
   "metadata": {},
   "outputs": [],
   "source": [
    "z = bool(-5)\n",
    "type(z), z"
   ]
  },
  {
   "cell_type": "code",
   "execution_count": null,
   "id": "b69b37f5",
   "metadata": {},
   "outputs": [],
   "source": [
    "####  Convert to Float  using  `float (a)` function\n",
    "a = 54\n",
    "type(a), a"
   ]
  },
  {
   "cell_type": "code",
   "execution_count": null,
   "id": "bc6b72c0",
   "metadata": {},
   "outputs": [],
   "source": [
    "b = float(a)\n",
    "type(b), b"
   ]
  },
  {
   "cell_type": "code",
   "execution_count": null,
   "id": "4b7a52b9",
   "metadata": {},
   "outputs": [],
   "source": [
    "# Note that a and be are two different objects\n",
    "id(a), id(b)"
   ]
  },
  {
   "cell_type": "code",
   "execution_count": null,
   "id": "206dd23c",
   "metadata": {},
   "outputs": [],
   "source": [
    "num = 341\n",
    "type(num), num"
   ]
  },
  {
   "cell_type": "code",
   "execution_count": null,
   "id": "17a27e2c",
   "metadata": {},
   "outputs": [],
   "source": [
    "mystr = str(num)\n",
    "type(mystr), mystr"
   ]
  },
  {
   "cell_type": "code",
   "execution_count": null,
   "id": "dfafcb00",
   "metadata": {},
   "outputs": [],
   "source": [
    "mystr = str(num)\n",
    "type(mystr), mystr"
   ]
  },
  {
   "cell_type": "code",
   "execution_count": null,
   "id": "b4b536b7",
   "metadata": {},
   "outputs": [],
   "source": [
    "####  Convert two Floats to Complex Data type  using  `complex (a, b)`  function\n",
    "a = 2.6\n",
    "b = 3.2\n",
    "x = complex(a,b)\n",
    "type(x), x"
   ]
  },
  {
   "cell_type": "code",
   "execution_count": null,
   "id": "bc0cda86",
   "metadata": {},
   "outputs": [],
   "source": [
    "string = \"Ehtisham Sadiq\"\n",
    "string[3]='u'"
   ]
  },
  {
   "cell_type": "code",
   "execution_count": null,
   "id": "7cfa8a71",
   "metadata": {},
   "outputs": [],
   "source": [
    "list1 = list(range(3,9))\n",
    "list1[3]=98\n",
    "list1"
   ]
  },
  {
   "cell_type": "markdown",
   "id": "ecc0ca30",
   "metadata": {},
   "source": [
    "## input function"
   ]
  },
  {
   "cell_type": "code",
   "execution_count": null,
   "id": "f1e3bd41",
   "metadata": {},
   "outputs": [],
   "source": [
    "number1 = int(input(\"Enter First Number : \"))\n",
    "number2 = int(input(\"Enter second number : \"))\n",
    "print(\"Before swapping numbers are : \", number1 , number2)\n",
    "number1, number2 = number2, number1\n",
    "print('After swapping numbers are : ', number1, number2)"
   ]
  },
  {
   "cell_type": "code",
   "execution_count": null,
   "id": "ed89aba8",
   "metadata": {},
   "outputs": [],
   "source": [
    "age = int(input(\"Enter your age :\"))\n",
    "print(type(age))\n",
    "print(age)"
   ]
  },
  {
   "cell_type": "code",
   "execution_count": null,
   "id": "03c399a0",
   "metadata": {},
   "outputs": [],
   "source": []
  },
  {
   "cell_type": "code",
   "execution_count": null,
   "id": "d67b1bce",
   "metadata": {},
   "outputs": [],
   "source": []
  },
  {
   "cell_type": "code",
   "execution_count": null,
   "id": "a6806d7a",
   "metadata": {},
   "outputs": [],
   "source": []
  },
  {
   "cell_type": "code",
   "execution_count": null,
   "id": "9349f7ed",
   "metadata": {},
   "outputs": [],
   "source": []
  },
  {
   "cell_type": "code",
   "execution_count": null,
   "id": "0bf3e9b4",
   "metadata": {},
   "outputs": [],
   "source": []
  },
  {
   "cell_type": "code",
   "execution_count": null,
   "id": "555ef38a",
   "metadata": {},
   "outputs": [],
   "source": []
  },
  {
   "cell_type": "code",
   "execution_count": null,
   "id": "1bf9ea60",
   "metadata": {},
   "outputs": [],
   "source": []
  },
  {
   "cell_type": "markdown",
   "id": "b9db2a20",
   "metadata": {},
   "source": [
    "# 2. Operators in Python"
   ]
  },
  {
   "cell_type": "code",
   "execution_count": null,
   "id": "5641bfd5",
   "metadata": {},
   "outputs": [],
   "source": []
  },
  {
   "cell_type": "markdown",
   "id": "1e0a8b0d",
   "metadata": {},
   "source": [
    "The operator can be defined as a symbol which is responsible for a particular operation between two operands. Operators are the pillars of a program on which the logic is built in a specific programming language. Python provides a variety of operators, which are described as follows."
   ]
  },
  {
   "cell_type": "markdown",
   "id": "f9d536b4",
   "metadata": {},
   "source": [
    "<img align=\"center\" width=\"400\" height=\"250\"  src=\"images/operators.png\" >"
   ]
  },
  {
   "cell_type": "markdown",
   "id": "f8aa5a1f",
   "metadata": {},
   "source": [
    "## i. Arithmetic operators in Python\n",
    "- Arithmetic operators are used to perform arithmetic operations between two operands.\n",
    "- Python supports the following arithmetic operators:\n",
    "\n",
    "| Operator   | Purpose           | Example     | Result    |\n",
    "|------------|-------------------|-------------|-----------|\n",
    "| `+`        | Addition          | `2 + 3`     | `5`       |\n",
    "| `-`        | Subtraction       | `3 - 2`     | `1`       |\n",
    "| `*`        | Multiplication    | `8 * 12`    | `96`      |\n",
    "| `/`        | Division          | `100 / 7`   | `14.28..` |\n",
    "| `//`       | Floor Division    | `100 // 7`  | `14`      |    \n",
    "| `%`        | Modulus/Remainder | `100 % 7`   | `2`       |\n",
    "| `**`       | Exponent          | `5 ** 3`    | `125`     |"
   ]
  },
  {
   "cell_type": "code",
   "execution_count": null,
   "id": "49229ad1",
   "metadata": {},
   "outputs": [],
   "source": [
    "# Here x and y are operands\n",
    "x = 10\n",
    "y = 3\n",
    "\n",
    "# Output: x + y \n",
    "print('x + y =',x+y)\n",
    "\n",
    "# Output: x - y \n",
    "print('x - y =',x-y)\n",
    "\n",
    "# Output: x * y \n",
    "print('x * y =',x*y)\n",
    "\n",
    "# Output: x / y \n",
    "print('x / y =',x/y)\n",
    "\n",
    "# Floor Division: Output: x // y \n",
    "print('x // y =',x//y)\n",
    "\n",
    "# Output: x ^ y \n",
    "# Ouput of Exponent\n",
    "print('x ** y =',x**y)\n",
    "# x = 10 , y =3 , 1000\n",
    "# Output: x % y \n",
    "print('x % y =',x%y)\n"
   ]
  },
  {
   "cell_type": "markdown",
   "id": "6d82b9f2",
   "metadata": {},
   "source": [
    "## ii.Assignment Operators\n",
    "- The assignment operators are used to assign the value of the right expression to the left operand.\n",
    "- Python supports the following Assignment operators:\n",
    "- If a = 10, b = 20\n",
    "\n",
    "|Operator||Description||Representation||Example||Result|  \n",
    "|--------||-----------||--------------||-------||------|   \n",
    "|=||It assigns the value of the right expression to the left operand||=||a=b||20|\n",
    "|+=||It increases the value of the left operand by the value of the right operand and assigns the modified value back to left operand.||a+ = b will be equal to a = a+ b||a+=b||30|\n",
    "|-=||It decreases the value of the left operand by the value of the right operand and assigns the modified value back to left operand.||a- = b will be equal to a = a- b ||a-=b||-10|\n",
    "|*=||It multiplies the value of the left operand by the value of the right operand and assigns the modified value back to then the left operand.||a*=b will be equal to a = a*b||a*=b||200|\n",
    "|%=||It divides the value of the left operand by the value of the right operand and assigns the reminder back to the left operand.||a%=b will be equala to a = a%b||a%=b||1|"
   ]
  },
  {
   "cell_type": "code",
   "execution_count": null,
   "id": "9e49a156",
   "metadata": {},
   "outputs": [],
   "source": [
    "#Assignment operators in Python\n",
    "x = 4\n",
    "\n",
    "\n",
    "x += 5    # <->  x = x + 5\n",
    "print(x)\n",
    "\n",
    "#    x = x - 5\n",
    "x -= 5      \n",
    "print(x)\n",
    "\n",
    "#    x = x * 5\n",
    "x *= 5     \n",
    "print(x)\n",
    "\n",
    "#    x = x / 5\n",
    "x /= 5  \n",
    "print(x)\n",
    "\n",
    "#    x = x % 5\n",
    "#    x %= 5       \n",
    "\n",
    "#    x = x // 5\n",
    "#    x //= 5      \n",
    "\n",
    "#    x = x ** 5\n",
    "x **= 5      \n",
    "print(x)"
   ]
  },
  {
   "cell_type": "markdown",
   "id": "af830086",
   "metadata": {},
   "source": [
    "## iii. Comparison Operators\n",
    "- Comparison operators are used to comparing the value of the two operands and returns Boolean true or false accordingly.\n",
    "|Operator||Description|\n",
    "|--------||-----------|\n",
    "|==||If the value of two operands is equal, then the condition becomes true.|\n",
    "|!=||If the value of two operands is not equal, then the condition becomes true.|\n",
    "|<=||If the first operand is less than or equal to the second operand, then the condition becomes true.|\n",
    "|>=||If the first operand is greater than or equal to the second operand, then the condition becomes true.|\n",
    "|>||If the first operand is greater than the second operand, then the condition becomes true.|\n",
    "|<||If the first operand is less than the second operand, then the condition becomes true.|"
   ]
  },
  {
   "cell_type": "code",
   "execution_count": null,
   "id": "4b7d22a2",
   "metadata": {},
   "outputs": [],
   "source": [
    "a = 8\n",
    "b = 8\n",
    "print(a >= b)"
   ]
  },
  {
   "cell_type": "code",
   "execution_count": null,
   "id": "f978f591",
   "metadata": {},
   "outputs": [],
   "source": [
    "#Comparison operators in Python\n",
    "\n",
    "x = 10\n",
    "y = 12\n",
    "\n",
    "# Output: x > y \n",
    "print('x > y is',x>y)\n",
    "\n",
    "# Output: x < y \n",
    "print('x < y is',x<y)\n",
    "\n",
    "# Output: x == y \n",
    "print('x == y is',x==y)\n",
    "\n",
    "# Output: x != y \n",
    "print('x != y is',x!=y)\n",
    "\n",
    "# Output: x >= y \n",
    "print('x >= y is',x>=y)\n",
    "\n",
    "# Output: x <= y \n",
    "print('x <= y is',x<=y)\n",
    "\n",
    "\n",
    "a = (x <= y)\n",
    "print(a)"
   ]
  },
  {
   "cell_type": "markdown",
   "id": "b74e0697",
   "metadata": {},
   "source": [
    "## iv. Bitwise Operators\n",
    "- The bitwise operators perform bit by bit operation on the values of the two operands.\n",
    "|Operator||Description|\n",
    "|--------||-----------|\n",
    "|a&b||If both the bits at the same place in two operands are 1, then 1 is copied to the result. Otherwise, 0 is copied.|\n",
    "|a or b||The resulting bit will be 0 if both the bits are zero; otherwise, the resulting bit will be 1.|"
   ]
  },
  {
   "cell_type": "code",
   "execution_count": null,
   "id": "a533c31f",
   "metadata": {},
   "outputs": [],
   "source": [
    "#Bitwise operators in Python\n",
    "x = 10   # 00001010\n",
    "y = 4    # 00000100\n",
    "\n",
    "\n",
    "# Bitwise and\n",
    "print('x & y is',x&y)\n",
    "\n",
    "# Bitwise or\n",
    "print('x | y is',x|y)"
   ]
  },
  {
   "cell_type": "markdown",
   "id": "00e32227",
   "metadata": {},
   "source": [
    "## v. Logical Operator\n",
    "- The logical operators are used primarily in the expression evaluation to make a decision. \n",
    "- When Python is processing a logical expression such as `x >= 2 and (x/y) > 2` , it evaluates the expression from left to right.\n",
    "- The logical operators `and`, `or` and `not` operate upon conditions and `True` & `False` values. The `and` and `or` operate on two conditions, whereas `not` operates on a single condition.\n",
    "\n",
    "- The `and` operator returns `True` when both the conditions evaluate to `True`. Otherwise, it returns `False`.\n",
    "\n",
    "| `a`     | `b`    | `a and b` |\n",
    "|---------|--------|-----------|\n",
    "|  `True` | `True` | `True`    |\n",
    "|  `True` | `False`| `False`   |\n",
    "|  `False`| `True` | `False`   |\n",
    "|  `False`| `False`| `False`   |\n",
    "\n",
    "- The `or` operator returns `True` if at least one of the conditions evaluates to `True`. It returns `False` only if both conditions are `False`.\n",
    "\n",
    "| `a`     | `b`    | `a or b`  |\n",
    "|---------|--------|-----------|\n",
    "|  `True` | `True` | `True`    |\n",
    "|  `True` | `False`| `True`    |\n",
    "|  `False`| `True` | `True`    |\n",
    "|  `False`| `False`| `False`   |\n",
    "\n",
    "- The `not` operator returns `False` if a condition is `True` and `True` if the condition is `False`."
   ]
  },
  {
   "cell_type": "code",
   "execution_count": null,
   "id": "2278618e",
   "metadata": {},
   "outputs": [],
   "source": [
    "x = True\n",
    "y = False\n",
    "\n",
    "print('x and y is',x and y)\n",
    "\n",
    "print('x or y is',x or y)\n",
    "\n",
    "print('not x is',not x)"
   ]
  },
  {
   "cell_type": "code",
   "execution_count": null,
   "id": "d5c87380",
   "metadata": {},
   "outputs": [],
   "source": [
    "# A short circuit happens in 'and' operation, when the first condition evaluates to False\n",
    "x = 3\n",
    "y = 0\n",
    "z = ((x>=6) and (x/y))\n",
    "z"
   ]
  },
  {
   "cell_type": "markdown",
   "id": "f76b8bf3",
   "metadata": {},
   "source": [
    "## vi. Identity Operators in Python\n",
    "- Identity operators are used to compare the ID of objects (not their values)\n",
    "- Returns True if both objects refer to same memory location\n",
    "- The two identity operators in Python are `is` and `is not`\n",
    "|Operator||Description|\n",
    "|--------||-----------|\n",
    "|is||It is evaluated to be true if the reference present at both sides point to the same object.|\n",
    "|is not||It is evaluated to be true if the reference present at both sides do not point to the same object.|"
   ]
  },
  {
   "cell_type": "code",
   "execution_count": null,
   "id": "e0c2b172",
   "metadata": {},
   "outputs": [],
   "source": [
    "#Identity operators in Python\n",
    "a = 5\n",
    "b = 5.0\n",
    "print(id(a))\n",
    "print(id(b))\n",
    "print(a is b)\n",
    "print(a==b)\n"
   ]
  },
  {
   "cell_type": "code",
   "execution_count": null,
   "id": "8982330d",
   "metadata": {},
   "outputs": [],
   "source": [
    "a = 'Hello'\n",
    "b = 'Hello'\n",
    "\n",
    "# Output: False\n",
    "print(a is not b)\n",
    "\n",
    "# Output: True\n",
    "print(a is b)"
   ]
  },
  {
   "cell_type": "markdown",
   "id": "2c9fd665",
   "metadata": {},
   "source": [
    "## vi. Membership Operators\n",
    "- Python membership operators are used to check the membership of value inside a Python data structure. If the value is present in the data structure, then the resulting value is true otherwise it returns false.\n",
    "|Operator||Description|\n",
    "|--------||-----------|\n",
    "|in||It is evaluated to be true if the first operand is found in the second operand (list, tuple, or dictionary).|\n",
    "|not in||It is evaluated to be true if the first operand is not found in the second operand (list, tuple, or dictionary).|"
   ]
  },
  {
   "cell_type": "code",
   "execution_count": null,
   "id": "655ad70c",
   "metadata": {},
   "outputs": [],
   "source": [
    "a = 10\n",
    "b = 4\n",
    "list1 = [1, 2, 3, 4, 5 ]\n",
    "\n",
    "rv = a in list1\n",
    "print(rv)\n",
    "rv = b in list1\n",
    "print(rv)"
   ]
  },
  {
   "cell_type": "markdown",
   "id": "7501e51f",
   "metadata": {},
   "source": [
    "## viii. Operator Precedence in Python\n",
    "- The precedence of the operators is essential to find out since it enables us to know which operator should be evaluated first."
   ]
  },
  {
   "cell_type": "markdown",
   "id": "e9921583",
   "metadata": {},
   "source": [
    "<img align=\"center\" width=\"450\" height=\"580\"  src=\"images/python-operator-precedence.jpg\"> "
   ]
  },
  {
   "cell_type": "code",
   "execution_count": null,
   "id": "2374ce65",
   "metadata": {},
   "outputs": [],
   "source": [
    "print(5 + 3 * 2)\n",
    "print((5 + 3) * 2)"
   ]
  },
  {
   "cell_type": "code",
   "execution_count": null,
   "id": "51c81f12",
   "metadata": {},
   "outputs": [],
   "source": [
    "print(2 ** 3 ** 2)\n",
    "print((2 ** 3) ** 2)"
   ]
  },
  {
   "cell_type": "code",
   "execution_count": null,
   "id": "a3911a40",
   "metadata": {},
   "outputs": [],
   "source": [
    "num1, num2, num3 = 2, 3, 4\n",
    "print ((num1 + num2) * num3)"
   ]
  },
  {
   "cell_type": "code",
   "execution_count": null,
   "id": "559bca79",
   "metadata": {},
   "outputs": [],
   "source": [
    "num1, num2, num3 = 2, 3, 4\n",
    "print (num1 ** num2 + num3)"
   ]
  },
  {
   "cell_type": "code",
   "execution_count": null,
   "id": "40f85c5a",
   "metadata": {},
   "outputs": [],
   "source": []
  },
  {
   "cell_type": "code",
   "execution_count": null,
   "id": "baacde48",
   "metadata": {},
   "outputs": [],
   "source": []
  },
  {
   "cell_type": "code",
   "execution_count": null,
   "id": "1695fa3c",
   "metadata": {},
   "outputs": [],
   "source": []
  },
  {
   "cell_type": "code",
   "execution_count": null,
   "id": "4483c5c2",
   "metadata": {},
   "outputs": [],
   "source": []
  },
  {
   "cell_type": "markdown",
   "id": "cf8590e3",
   "metadata": {},
   "source": [
    "## Check your Concepts\n",
    "\n",
    "Try answering the following questions to test your understanding of the topics covered in this notebook:\n",
    "\n",
    "1. What is a variable in Python?\n",
    "2. How do you create a variable?\n",
    "3. How do you check the value within a variable?\n",
    "4. How do you create multiple variables in a single statement?\n",
    "5. How do you create multiple variables with the same value?\n",
    "6. How do you change the value of a variable?\n",
    "7. How do you reassign a variable by modifying the previous value?\n",
    "8. What are the rules for naming a variable?\n",
    "9. Are variable names case-sensitive? Do `a_variable`, `A_Variable`, and `A_VARIABLE` represent the same variable or different ones?\n",
    "10. How do you check the data type of a variable?\n",
    "11. What are the built-in data types in Python?\n",
    "12. What kind of data does the Integer data type represent?\n",
    "13. What are the numerical limits of the integer data type?\n",
    "14. What kind of data does the float data type represent?\n",
    "15. How does Python decide if a given number is a float or an integer?\n",
    "16. How can you create a variable which stores a whole number, e.g., 4 but has the float data type?\n",
    "17. What are the differences between integers and floats?\n",
    "18. How do you convert an integer to a float?\n",
    "19. How do you convert a float to an integer?\n",
    "20. What is the result obtained when you convert 1.99 to an integer?\n",
    "21. What are the data types of the results of the division operators `/` and `//`?\n",
    "22. What kind of data does the Boolean data type represent?\n",
    "23. Which types of Python operators return booleans as a result?\n",
    "24. What happens if you try to use a boolean in arithmetic operation?\n",
    "25. How can any value in Python be covered to a boolean?"
   ]
  },
  {
   "cell_type": "code",
   "execution_count": null,
   "id": "8dc60cb5",
   "metadata": {},
   "outputs": [],
   "source": []
  },
  {
   "cell_type": "code",
   "execution_count": null,
   "id": "d0ca73a4",
   "metadata": {},
   "outputs": [],
   "source": []
  },
  {
   "cell_type": "code",
   "execution_count": null,
   "id": "d1baf09b",
   "metadata": {},
   "outputs": [],
   "source": []
  },
  {
   "cell_type": "code",
   "execution_count": null,
   "id": "5c557789",
   "metadata": {},
   "outputs": [],
   "source": []
  },
  {
   "cell_type": "code",
   "execution_count": null,
   "id": "6253d578",
   "metadata": {},
   "outputs": [],
   "source": []
  },
  {
   "cell_type": "code",
   "execution_count": null,
   "id": "4d06bff0",
   "metadata": {},
   "outputs": [],
   "source": []
  },
  {
   "cell_type": "code",
   "execution_count": null,
   "id": "8de7fbe1",
   "metadata": {},
   "outputs": [],
   "source": []
  },
  {
   "cell_type": "markdown",
   "id": "5e8bac43",
   "metadata": {},
   "source": [
    "<h2 align=center style=\"color:red;\"> String Data Structure </h2>\n",
    "\n",
    "\n",
    "- What is Data  Structure?\n",
    "- String Data Structure\n",
    "- Defining Strings in the Python\n",
    "- Accessing characters  of  a  String (Indexing)\n",
    "- Strings  are  immutable(Reassigning String)\n",
    "- Strings  Slicing \n",
    "- String  Concatenation\n",
    "- Create large Strings\n",
    "- Operations on string Data structure\n",
    "- Strings method\n",
    "    - lower(), upper(), strip(), startswith(), endswith(), split(), join(), find(), replace(), format(), len(), min(), max(), sorted(), title()/capitalize, swapcase(), count(), find(), index(), isalnum() / isalpha(), isdigit(), \n",
    "- String  Deletion\n",
    "- String Membership test\n",
    "\n"
   ]
  },
  {
   "cell_type": "code",
   "execution_count": null,
   "id": "2401ac15",
   "metadata": {},
   "outputs": [],
   "source": []
  },
  {
   "cell_type": "code",
   "execution_count": null,
   "id": "d5f23004",
   "metadata": {},
   "outputs": [],
   "source": []
  },
  {
   "cell_type": "markdown",
   "id": "595a7565",
   "metadata": {},
   "source": [
    "### What is Data Structure?\n",
    "\n",
    "- Data structure is a particular way of storing and organizing data in a computer so that it can be used efficiently. A data structure is a special format for organizing and storing data .\n",
    "\n",
    "\n",
    "<img src=\"images/data_structure.gif\" height=400px width=400px>"
   ]
  },
  {
   "cell_type": "code",
   "execution_count": null,
   "id": "a7355280",
   "metadata": {},
   "outputs": [],
   "source": []
  },
  {
   "cell_type": "code",
   "execution_count": null,
   "id": "f746f33a",
   "metadata": {},
   "outputs": [],
   "source": []
  },
  {
   "cell_type": "code",
   "execution_count": null,
   "id": "e2aef7bd",
   "metadata": {},
   "outputs": [],
   "source": []
  },
  {
   "cell_type": "markdown",
   "id": "5291c556",
   "metadata": {},
   "source": [
    "### 1. Defining/Creating of a string\n",
    "\n",
    "- A string is a collection of character(s) closed within single or double quotation marks. (There is no `char` data type in Python as in C/C++)\n",
    "- A string can also contain a single character or be entirely empty.\n",
    "- To make a single quote part of a string, define the string using double quotes and vice versa. You can also make use of escape sequence\n",
    "- Python also provides triple-quotes to represent the string, but it is generally used for multiline string or docstrings."
   ]
  },
  {
   "cell_type": "code",
   "execution_count": null,
   "id": "a500490d",
   "metadata": {},
   "outputs": [],
   "source": [
    "str4 = 'A'\n",
    "str5 = \"\"\n",
    "print(type(str4))\n",
    "print(type(str5))\n",
    "str6 = \"I'm student of software engineering!\"\n",
    "print(str6)\n",
    "str7 = 'I\"m student'\n",
    "print(str7)\n",
    "str8 = 'i\"m a student'\n",
    "print(str8)\n",
    "str8 = \"\"\" To display the current time, we have used the getTime()\n",
    "method of Calendar class. The getTime() is an instance method of Calendar class,\n",
    "so we have called it after getting the instance of\n",
    "Calendar class by the getInstance() method \"\"\"\n",
    "print(str8)"
   ]
  },
  {
   "cell_type": "code",
   "execution_count": null,
   "id": "9dc902b8",
   "metadata": {},
   "outputs": [],
   "source": [
    "string1 = 'Hello'\n",
    "print(string1)\n",
    "\n",
    "string2 = \"World\"\n",
    "print(string2)\n",
    "\n",
    "string3 = \"\"\n",
    "print(string3)\n",
    "\n",
    "string4 = \"A\"\n",
    "print(string4)"
   ]
  },
  {
   "cell_type": "code",
   "execution_count": null,
   "id": "fb17cf4b",
   "metadata": {},
   "outputs": [],
   "source": [
    "# triple quotes string can extend multiple lines\n",
    "\n",
    "string5 = \"\"\"Hello, This is\n",
    "            multi-line string\"\"\"\n",
    "print(string5)\n",
    "\n",
    "string5 = '''Hello, This is\n",
    "            multi-line string'''\n",
    "print(string5)"
   ]
  },
  {
   "cell_type": "code",
   "execution_count": null,
   "id": "11972bca",
   "metadata": {},
   "outputs": [],
   "source": [
    "# Be careful with quotes!\n",
    "'I'm using single quotes, but will create an error'"
   ]
  },
  {
   "cell_type": "code",
   "execution_count": null,
   "id": "b8c7b1a1",
   "metadata": {},
   "outputs": [],
   "source": [
    "# Be careful with quotes!\n",
    "\"I'm using single quotes, but will create an error\""
   ]
  },
  {
   "cell_type": "markdown",
   "id": "4b80a286",
   "metadata": {},
   "source": [
    "The reason for the error above is because the single quote in I'm stopped the string. You can use combinations of double and single quotes to get the complete statement."
   ]
  },
  {
   "cell_type": "code",
   "execution_count": null,
   "id": "56ff63f2",
   "metadata": {},
   "outputs": [],
   "source": []
  },
  {
   "cell_type": "code",
   "execution_count": null,
   "id": "e5763cda",
   "metadata": {},
   "outputs": [],
   "source": []
  },
  {
   "cell_type": "markdown",
   "id": "11826733",
   "metadata": {},
   "source": [
    "### 2. Accessing Characters of a String (Indexing)\n",
    "Like other languages, the indexing of the Python strings starts from 0. Since string is of type sequence, and any component within a sequence can be accessed by entrying an index within square brackets. So naturally this work for strings as well List.\n",
    "For example, The string \"HELLO\" is indexed as given in the below figure.!\n",
    "\n",
    "<img src=\"images/2.png\" height=200px width=200px>"
   ]
  },
  {
   "cell_type": "code",
   "execution_count": null,
   "id": "9c131f3d",
   "metadata": {},
   "outputs": [],
   "source": []
  },
  {
   "cell_type": "code",
   "execution_count": null,
   "id": "17fc978a",
   "metadata": {},
   "outputs": [],
   "source": [
    "sttr1 = \"Ehtisham Sadiq 123\"\n",
    "print(len(sttr1))\n",
    "# 0-17 index"
   ]
  },
  {
   "cell_type": "code",
   "execution_count": null,
   "id": "ed22f0eb",
   "metadata": {},
   "outputs": [],
   "source": [
    "string10 = \"Hello,I'm Ehtisham Sadiq\"\n",
    "print(len(string10))\n",
    "print(string10[7])"
   ]
  },
  {
   "cell_type": "code",
   "execution_count": null,
   "id": "9ae774f9",
   "metadata": {},
   "outputs": [],
   "source": [
    "string = \"HELLO\"  \n",
    "print(string[0])  \n",
    "print(string[1])  \n",
    "print(string[2])  \n",
    "print(string[3])  \n",
    "print(string[4])  \n",
    "print(len(string))\n",
    "# It returns the IndexError because 6th index doesn't exist  \n",
    "print(string[6])\n",
    "# 1-4"
   ]
  },
  {
   "cell_type": "markdown",
   "id": "10e7a205",
   "metadata": {},
   "source": [
    "As shown in Python, the slice operator [] is used to access the individual characters of the string. However, we can use the : (colon) operator in Python to access the substring from the given string. Consider the following example.\n",
    "\n",
    "**Syntax:**    \n",
    "**str[start:end-1]**"
   ]
  },
  {
   "cell_type": "code",
   "execution_count": null,
   "id": "8412569b",
   "metadata": {},
   "outputs": [],
   "source": [
    "string10 = \"Hello,I'm Ehtisham Sadiq\"\n",
    "print(len(string10))\n",
    "# [start : end-1]\n",
    "print(string10[2:9])\n",
    "# [2] -> l\n",
    "# [3] -> l\n",
    "# [4] -> o\n",
    "# [5] -> , \n",
    "# [6] -> \n",
    "# [7] -> I\n",
    "# [8] -> '"
   ]
  },
  {
   "cell_type": "code",
   "execution_count": null,
   "id": "4a760ce4",
   "metadata": {},
   "outputs": [],
   "source": []
  },
  {
   "cell_type": "code",
   "execution_count": null,
   "id": "7186dffd",
   "metadata": {},
   "outputs": [],
   "source": []
  },
  {
   "cell_type": "markdown",
   "id": "b1e0a752",
   "metadata": {},
   "source": [
    "<img src=\"images/3.png\" height=200px width=200px>\n",
    "\n",
    "\n",
    "<br>\n",
    "<br>\n",
    "\n",
    "Here, we must notice that the upper range given in the slice operator is always exclusive i.e., if str = 'HELLO' is given, then str[1:3] will always include str[1] = 'E', str[2] = 'L' and nothing else."
   ]
  },
  {
   "cell_type": "code",
   "execution_count": null,
   "id": "be0aca71",
   "metadata": {},
   "outputs": [],
   "source": [
    "string2 = \"Dua Sadiq\"  \n",
    "print(len(string2))\n",
    "\n",
    "# Start Oth index to end  \n",
    "print(string2[0:])  \n",
    "\n",
    "# Starts 1th index to 4th index  \n",
    "print(string2[1:5])  \n",
    "\n",
    "# Starts 2nd index to 3rd index  \n",
    "print(string2[2:4])  \n",
    "\n",
    "# Starts 0th to 2nd index  \n",
    "print(string2[:3])  \n",
    "\n",
    "#Starts 4th to 6th index  \n",
    "print(string2[4:7])  "
   ]
  },
  {
   "cell_type": "code",
   "execution_count": null,
   "id": "0cf264ce",
   "metadata": {},
   "outputs": [],
   "source": [
    "string2[-1]"
   ]
  },
  {
   "cell_type": "markdown",
   "id": "f9ed1274",
   "metadata": {},
   "source": [
    "We can do the negative slicing in the string; it starts from the rightmost character, which is indicated as -1. The second rightmost index indicates -2, and so on.\n",
    "\n",
    "<img src=\"images/4.png\" height=250px width=250px>\n",
    "\n"
   ]
  },
  {
   "cell_type": "code",
   "execution_count": null,
   "id": "4c4b9fff",
   "metadata": {},
   "outputs": [],
   "source": [
    "str11 = \"Ehtisham\""
   ]
  },
  {
   "cell_type": "code",
   "execution_count": null,
   "id": "2eeacbb2",
   "metadata": {},
   "outputs": [],
   "source": [
    "a = \"Ali Sadiq\"\n",
    "a[::-2]"
   ]
  },
  {
   "cell_type": "code",
   "execution_count": null,
   "id": "588a84af",
   "metadata": {},
   "outputs": [],
   "source": [
    "strinng = \"HSDJHDKHDHIWYHDIVGFRFED\"\n",
    "print(len(strinng))\n",
    "strinng[-23]"
   ]
  },
  {
   "cell_type": "code",
   "execution_count": null,
   "id": "5d70f29c",
   "metadata": {},
   "outputs": [],
   "source": [
    "class_statistic = list(range(1,70))\n",
    "print(class_statistic[::2])"
   ]
  },
  {
   "cell_type": "code",
   "execution_count": null,
   "id": "e0f294cc",
   "metadata": {},
   "outputs": [],
   "source": [
    "string3 = 'Ali Sadiq'  \n",
    "print(len(string3))\n",
    "print(string3[-1])  \n",
    "print(string3[-3])  \n",
    "print(string3[-2:])  \n",
    "print(string3[-4:-1])  \n",
    "print(string3[-7:-2])  \n",
    "\n",
    "# Reversing the given string  \n",
    "print(string3[::-1])  \n",
    "print(string3[-12])\n"
   ]
  },
  {
   "cell_type": "code",
   "execution_count": null,
   "id": "f0d8d50b",
   "metadata": {},
   "outputs": [],
   "source": [
    "str1 = \"ALi Sadiq\"\n",
    "print(str1)\n",
    "str1 = \"Ayesha Sadiq\"\n",
    "str1[3] = \"M\"\n",
    "print(str1)"
   ]
  },
  {
   "cell_type": "markdown",
   "id": "8034b959",
   "metadata": {},
   "source": [
    "###  Strings are immutable/ Reassigning Strings\n",
    "Updating the content of the strings is as easy as assigning it to a new string. The string object doesn't support item assignment i.e., A string can only be replaced with new string since its content cannot be partially replaced. Strings are immutable in Python.\n",
    "\n",
    "<img src=\"images/datatypes1.png\" height=450px width=450px>\n"
   ]
  },
  {
   "cell_type": "code",
   "execution_count": null,
   "id": "6754f3de",
   "metadata": {},
   "outputs": [],
   "source": [
    "#strings are immutable, means string object does not support item assignment\n",
    "string4 = 'Ehtisham Sadiq'\n",
    "\n",
    "string4[5] = 'c'\n",
    "\n",
    "print(id(string4))\n",
    "\n",
    "#assigning a new value is valid\n",
    "string4 = 'python'\n",
    "\n",
    "print(id(string4))"
   ]
  },
  {
   "cell_type": "markdown",
   "id": "76d19d9a",
   "metadata": {},
   "source": [
    "The object `Ehtisham Sadiq` is now orphan, since there is no variable referring to it now and will be collected by Python garbage collector."
   ]
  },
  {
   "cell_type": "code",
   "execution_count": null,
   "id": "c919b7b2",
   "metadata": {},
   "outputs": [],
   "source": []
  },
  {
   "cell_type": "code",
   "execution_count": null,
   "id": "28b7b8a7",
   "metadata": {},
   "outputs": [],
   "source": []
  },
  {
   "cell_type": "markdown",
   "id": "c8b92d9c",
   "metadata": {},
   "source": [
    "### String Slicing\n",
    "\n",
    "- Slicing is the process of obtaining a portion (substring) of a string by using its indices.\n",
    "- Given a string, we can use the following syntax to slice it and obtain a substring:\n",
    "```\n",
    "string[start:end]\n",
    "```\n",
    "- **start** is the index from where we want the substring to start. If start is not provided, slicing starts from the beginning.\n",
    "- **end** is the index where we want our substring to end (not inclusive in the substring). If end is not provided, slicing goes till the end of the string (includes the last character of the string)."
   ]
  },
  {
   "cell_type": "code",
   "execution_count": null,
   "id": "279bf36c",
   "metadata": {},
   "outputs": [],
   "source": [
    "# var[:] -> Full string return\n",
    "# var[0:]-> Full string return\n",
    "# var[:len(string)] -> Full string return \n",
    "# var[::-1] -> Full reverse string return"
   ]
  },
  {
   "cell_type": "code",
   "execution_count": null,
   "id": "915b036a",
   "metadata": {},
   "outputs": [],
   "source": [
    "# given string, n , n-10 spaces, remove all the spaces\n",
    "# string methods, sci, join , merege"
   ]
  },
  {
   "cell_type": "code",
   "execution_count": null,
   "id": "170fee33",
   "metadata": {},
   "outputs": [],
   "source": [
    "str1 = 'Introduction to data analyst and data science for beginners'\n",
    "print(len(str1))\n",
    "print(str1[0:4]) # From the start till before the 4th index\n",
    "\n",
    "print(str1[:4]) # From the start till before the 4th index\n",
    "print(str1[11:16])\n",
    "\n",
    "print(str1[19:]) # From the 19th index till the end\n",
    "print(str1[5:-4])\n",
    "#if start is greater than end, it will return empty string\n",
    "print(str1[5:2])\n",
    "\n",
    "print(str1[19:len(str1)]) # From the 19th index till the end\n",
    "\n"
   ]
  },
  {
   "cell_type": "markdown",
   "id": "c3e55d64",
   "metadata": {},
   "source": [
    "### a. Slicing with a Step \n",
    "- In the above example, we’ve used slicing to obtain a contiguous piece of a string, i.e., all the characters from the starting index to before the ending index are retrieved.\n",
    "- However, we can define a step through which we can skip characters in the string. The default step is 1, so we iterate through the string one character at a time.\n",
    "- The step is defined after the end index:\n",
    "```\n",
    "string[start:end:step]\n",
    "```"
   ]
  },
  {
   "cell_type": "code",
   "execution_count": null,
   "id": "d229499c",
   "metadata": {},
   "outputs": [],
   "source": [
    "str1 = 'Introductiontodatasciencewithusingpython'\n",
    "print(len(str1))\n",
    "print(str1[::])  # A default step of 1\n",
    "print(str1[::1])  # A step of 1\n",
    "print(str1[::-1])  # A step of 2"
   ]
  },
  {
   "cell_type": "markdown",
   "id": "0b1c99d0",
   "metadata": {},
   "source": [
    "### b. Reverse Slicing\n",
    "- Strings can also be sliced to return a reversed substring. \n",
    "- For reverse slicing we need to give a negative step\n",
    "- For reverse slicing the `start` index must be greater than the `end` index, otherwise an empty string will be returned"
   ]
  },
  {
   "cell_type": "code",
   "execution_count": null,
   "id": "0c16107b",
   "metadata": {},
   "outputs": [],
   "source": [
    "str1 = '0123456789'\n",
    "print(str1[::-1]) \n",
    "print(str1[5:1:-1]) \n",
    "print(str1[2:10:-1])\n",
    "print(str1[::-2]) "
   ]
  },
  {
   "cell_type": "markdown",
   "id": "5e7ddb57",
   "metadata": {},
   "source": [
    "## 5. String Concatenation\n",
    "- Two strings can be joined or concatenated using the `+` operator"
   ]
  },
  {
   "cell_type": "code",
   "execution_count": null,
   "id": "8ce8aa5a",
   "metadata": {},
   "outputs": [],
   "source": [
    "print(\"Ehtisham Sadiq\")"
   ]
  },
  {
   "cell_type": "code",
   "execution_count": null,
   "id": "8947e7b4",
   "metadata": {},
   "outputs": [],
   "source": [
    "str1 = 'Hello'\n",
    "str2 =' World!'\n",
    "str3 = str1 + str2\n",
    "print('str1 + str2 = ', str3)\n",
    "\n",
    "\n",
    "print(\"Y\" + str3[1:])"
   ]
  },
  {
   "cell_type": "markdown",
   "id": "1e2b4a29",
   "metadata": {},
   "source": [
    "## 6. Creating large strings\n",
    "- A string can be replicated/repeated using the `*` operator"
   ]
  },
  {
   "cell_type": "code",
   "execution_count": null,
   "id": "afb60c81",
   "metadata": {},
   "outputs": [],
   "source": [
    "str1 = 'Hello'\n",
    "print('str1 * 5 =', str1 * 5)\n",
    "str2 = \"Ehtisham\"\n",
    "print(str2*10)\n",
    "buffer = 'A' * 100\n",
    "print(buffer)"
   ]
  },
  {
   "cell_type": "markdown",
   "id": "72cd4373",
   "metadata": {},
   "source": [
    "## 7. Operations on String Data Structure \n",
    "\n",
    "\n",
    "|Operator||Description|\n",
    "|--------||-----------|\n",
    "|+||It is known as concatenation operator used to join the strings given either side of the operator. |\n",
    "|*| |It is known as repetition operator. It concatenates the multiple copies of the same string. |\n",
    "|[]||It is known as slice operator. It is used to access the sub-strings of a particular string. |\n",
    "|[:]||It is known as range slice operator. It is used to access the characters from the specified range. |\n",
    "|in||It is known as membership operator. It returns if a particular sub-string is present in the specified string. |\n",
    "|not in ||It is also a membership operator and does the exact reverse of in. It returns true if a particular substring is not present in the specified string. |"
   ]
  },
  {
   "cell_type": "markdown",
   "id": "f10d58dc",
   "metadata": {},
   "source": [
    "### 8. String Membership test using `in` operator"
   ]
  },
  {
   "cell_type": "code",
   "execution_count": null,
   "id": "ad3a15b9",
   "metadata": {},
   "outputs": [],
   "source": [
    "'a' in 'DataScience'"
   ]
  },
  {
   "cell_type": "code",
   "execution_count": null,
   "id": "b1b3c03b",
   "metadata": {},
   "outputs": [],
   "source": [
    "'thf' not in 'python'"
   ]
  },
  {
   "cell_type": "markdown",
   "id": "7128c911",
   "metadata": {},
   "source": [
    "## 9. String Deletion\n",
    "As we know that strings are immutable. We cannot delete or remove the characters from the string.  But we can delete the entire string using the del keyword."
   ]
  },
  {
   "cell_type": "code",
   "execution_count": null,
   "id": "cd7d15f1",
   "metadata": {},
   "outputs": [],
   "source": [
    "string5 = \"Data\"\n",
    "print(string5)"
   ]
  },
  {
   "cell_type": "code",
   "execution_count": null,
   "id": "313d5b4b",
   "metadata": {},
   "outputs": [],
   "source": [
    "del string5\n",
    "print(string5)"
   ]
  },
  {
   "cell_type": "markdown",
   "id": "bf09f41c",
   "metadata": {},
   "source": [
    "### 10. Comparing two strings using `is` operator and `==` operator"
   ]
  },
  {
   "cell_type": "code",
   "execution_count": null,
   "id": "5877bd4c",
   "metadata": {},
   "outputs": [],
   "source": [
    "x = 10\n",
    "y = 10\n",
    "print(id(x), id(y))"
   ]
  },
  {
   "cell_type": "code",
   "execution_count": null,
   "id": "b07af5ca",
   "metadata": {},
   "outputs": [],
   "source": [
    "a = 21\n",
    "b = 20\n",
    "print(id(a))\n",
    "print(id(b))"
   ]
  },
  {
   "cell_type": "code",
   "execution_count": null,
   "id": "9cd1d888",
   "metadata": {},
   "outputs": [],
   "source": [
    "str1 = \"marwa\"\n",
    "str2 = \"marwa\"\n",
    "print(id(str1), id(str2))"
   ]
  },
  {
   "cell_type": "code",
   "execution_count": null,
   "id": "af510ff8",
   "metadata": {},
   "outputs": [],
   "source": [
    "# Let us check out the IDs of the following two variables. Like numbers type of variable, \n",
    "# they are same as both a and b refers to the same memory location containing same string 'hello'\n",
    "a = 'hello'\n",
    "b = 'hello'\n",
    "print(id(a), id(b))"
   ]
  },
  {
   "cell_type": "code",
   "execution_count": null,
   "id": "31e8a56a",
   "metadata": {},
   "outputs": [],
   "source": [
    "# in case of strings, both a and b refers to the same memory location containing string 'hello'\n",
    "a = 'hello'\n",
    "b = 'hello'\n",
    "\n",
    "# The `is` operator returns True if the memory addresses of two strings / variables are same\n",
    "print (a is b) \n",
    "# The `==` operator checks the contents of two strings\n",
    "print (a == b) \n",
    "\n",
    "\n",
    "print(a is not b)\n",
    "print (a != b)"
   ]
  },
  {
   "cell_type": "code",
   "execution_count": null,
   "id": "ddbe5a9e",
   "metadata": {},
   "outputs": [],
   "source": [
    "# both x and y refers to two different memory locations containing string 'hello'\n",
    "x = 'hello'\n",
    "y = 'bye'\n",
    "\n",
    "# The `is` operator checks the memory address of two strings \n",
    "print (x is y) \n",
    "# The `==` operator checks the contents of two strings\n",
    "print (x == y) \n",
    "\n",
    "\n",
    "print(x is not y)\n",
    "print (x != y)"
   ]
  },
  {
   "cell_type": "markdown",
   "id": "76b5a6f8",
   "metadata": {},
   "source": [
    "## 11 . String Methods\n",
    "Now the most important part of a string is string functions which you used everywhere whenever you built any project. Now we will study all-important string functions which are frequently used.\n",
    "These are functions that you get on all other iterator data types like list, tuple, set, and also available in string."
   ]
  },
  {
   "cell_type": "markdown",
   "id": "b55306b9",
   "metadata": {},
   "source": [
    "### a. The `len()`, `str.lower()`, `str.upper()` and `str.capitalize()` methods\n",
    "- The `len()` is a built-in function that returns the number of items of a container data type passed as argument. We can check the length of any data types that are collections with built-in `len()` function.\n",
    "It is considered a built-in function.\n",
    "- The `str.lower()` method return a copy of the string converted to lowercase.\n",
    "- The `str.upper()` method return a copy of the string converted to uppercase.\n",
    "- The `str.capitalize()` method return a capitalized version of the string."
   ]
  },
  {
   "cell_type": "code",
   "execution_count": null,
   "id": "0c8b1de5",
   "metadata": {},
   "outputs": [],
   "source": [
    "help(len)"
   ]
  },
  {
   "cell_type": "code",
   "execution_count": null,
   "id": "57c58e2f",
   "metadata": {},
   "outputs": [],
   "source": [
    "print(str1.upper())\n",
    "print(type(str1))"
   ]
  },
  {
   "cell_type": "code",
   "execution_count": null,
   "id": "5985a360",
   "metadata": {},
   "outputs": [],
   "source": [
    "str1= \"Hello World\"\n",
    "mylist = [1,2,3,4,5]\n",
    "print(len(str1),len(mylist))"
   ]
  },
  {
   "cell_type": "markdown",
   "id": "68e5caba",
   "metadata": {},
   "source": [
    "### Hints\n",
    "- To know what all methods the object of string class support. Just type the name of the object, place a dot and then press <tab> to view the list of its attributes and methods it support. \n",
    "`str.<tab>`\n",
    "- Similarly to get help about a method, after the method name press <shift+tab>, to get information about what the method do, what parameters it take, its return value\n",
    "`str.lower<shift+tab>`"
   ]
  },
  {
   "cell_type": "code",
   "execution_count": null,
   "id": "c819f4b8",
   "metadata": {},
   "outputs": [],
   "source": [
    "str1.lower()"
   ]
  },
  {
   "cell_type": "code",
   "execution_count": null,
   "id": "c56c45c2",
   "metadata": {},
   "outputs": [],
   "source": [
    "string6 = \"DS\"\n",
    "string6."
   ]
  },
  {
   "cell_type": "code",
   "execution_count": null,
   "id": "7570ffae",
   "metadata": {},
   "outputs": [],
   "source": [
    "string7 = \"introduction to Data science using python\"\n",
    "print('Orignial string = ', string7)\n",
    "\n",
    "rv = len(string7)\n",
    "print('len(string7) = ', rv)\n",
    "\n",
    "rv1 = string7.lower()\n",
    "print('string7.lower() = ', rv1)\n",
    "      \n",
    "print('string7.upper() = ', string7.upper())\n",
    "\n",
    "rv2 = string7.capitalize()\n",
    "print('string7.capitalize() = ', rv2)\n",
    "print('Orignial string = ', string7)\n",
    "print(\"strinh7.title =\", string7.title())"
   ]
  },
  {
   "cell_type": "markdown",
   "id": "f51c8f55",
   "metadata": {},
   "source": [
    "### b. The `str.strip()` method\n",
    "- The `str.strip()` method removes whitespace characters from the beginning and end of a string.\n",
    "- The `str.lstrip()` method removes whitespace characters from the beginning of a string.\n",
    "- The `str.rstrip()` method removes whitespace characters from the end of a string.\n"
   ]
  },
  {
   "cell_type": "code",
   "execution_count": null,
   "id": "1e0c6a67",
   "metadata": {},
   "outputs": [],
   "source": [
    "buffer =\"    hello world, this is       Arif Butt      \"\n",
    "rv = buffer.strip()\n",
    "print(buffer)\n",
    "print(rv)"
   ]
  },
  {
   "cell_type": "code",
   "execution_count": null,
   "id": "9bc5c936",
   "metadata": {},
   "outputs": [],
   "source": [
    "buffer\n",
    "print(buffer.lstrip())\n",
    "print(buffer.rstrip())"
   ]
  },
  {
   "cell_type": "markdown",
   "id": "50f70ba7",
   "metadata": {},
   "source": [
    "### c. The `str.startswith()` method\n",
    "The `str.startswith()` method return True if str starts with the specified prefix, False otherwise.\n",
    "```\n",
    "str.startswith(prefix[, start[, end]])\n",
    "```"
   ]
  },
  {
   "cell_type": "code",
   "execution_count": null,
   "id": "d19e71b7",
   "metadata": {},
   "outputs": [],
   "source": [
    "string8 = \"Learning is fun with Ehtisham Sadiq\"\n",
    "\n",
    "rv3 = string8.startswith('Learning')\n",
    "print(rv3)\n",
    "\n",
    "rv4 = string8.startswith('Ali')\n",
    "print(rv4)\n",
    "\n",
    "\n",
    "rv5 = string8.startswith('Ehtisham', 21)\n",
    "print(rv5)\n",
    "\n",
    "# # case sensitive\n",
    "rv6 = string8.startswith('ali', 21)\n",
    "# print(rv6)\n",
    "\n",
    "# rv6 = string8.startswith('is', 2, 11)  # character at ending index is not included\n",
    "# print(rv6)"
   ]
  },
  {
   "cell_type": "markdown",
   "id": "2e90fe58",
   "metadata": {},
   "source": [
    "### d. The `str.endsswith()` method\n",
    "The `str.startswith()` method return True if str ends with the specified prefix, False otherwise."
   ]
  },
  {
   "cell_type": "code",
   "execution_count": null,
   "id": "b4a1010a",
   "metadata": {},
   "outputs": [],
   "source": [
    "s = \"ali\"\n",
    "print(s.endswith(\"f\"))\n",
    "print(s.endswith(\"i\"))"
   ]
  },
  {
   "cell_type": "markdown",
   "id": "4fd3f646",
   "metadata": {},
   "source": [
    "### d. The `str.split()` and `str.join()` method\n",
    "- The `str.split()` method splits a string into a list of strings at every occurrence of space character by default. You may pass a parameter `sep='i'` to split method to split at that specific character instead.\n",
    "- The `sep.join(list)` method is passed a list/iterable as parameter and is called on a separater character. It joins the strings inside the list to a single string and returns"
   ]
  },
  {
   "cell_type": "code",
   "execution_count": null,
   "id": "9d5150c6",
   "metadata": {},
   "outputs": [],
   "source": [
    "str1=\"DS\"\n",
    "print(str1)\n",
    "help(str1.split)"
   ]
  },
  {
   "cell_type": "code",
   "execution_count": null,
   "id": "8f10b8d7",
   "metadata": {},
   "outputs": [],
   "source": [
    "str1 = 'Learning is fun with Ehtisham Sadiq'\n",
    "print(len(str1))\n",
    "rv = str1.split()\n",
    "print(rv)\n",
    "print(len(rv))\n",
    "print(type(rv))"
   ]
  },
  {
   "cell_type": "code",
   "execution_count": null,
   "id": "bee1b130",
   "metadata": {},
   "outputs": [],
   "source": [
    "str1 = 'Learning is fun with Ehtisham Sadiq'\n",
    "rv = str1.split(sep='i')\n",
    "print(rv)\n",
    "print(type(rv))"
   ]
  },
  {
   "cell_type": "code",
   "execution_count": null,
   "id": "14ce2d62",
   "metadata": {},
   "outputs": [],
   "source": [
    "str1=\"DS\"\n",
    "help(str1.join)"
   ]
  },
  {
   "cell_type": "code",
   "execution_count": null,
   "id": "0054bed8",
   "metadata": {},
   "outputs": [],
   "source": [
    "mystr = \"L e a r n i n g\"\n",
    "mystr.split(\" \")"
   ]
  },
  {
   "cell_type": "code",
   "execution_count": null,
   "id": "010a002f",
   "metadata": {},
   "outputs": [],
   "source": [
    "# The join() method takes all items in an iterable and joins them into one string.\n",
    "mylist = ['Learning', 'is', 'fun', 'with', 'Ehtisham']\n",
    "\n",
    "#Note the separator is space character\n",
    "mystr = ' '.join(mylist)\n",
    "\n",
    "print(mylist, type(mylist))\n",
    "print(mystr, type(mystr))"
   ]
  },
  {
   "cell_type": "code",
   "execution_count": null,
   "id": "385376b4",
   "metadata": {},
   "outputs": [],
   "source": [
    "# You can call join() method on a separator or your choice\n",
    "mylist = ['Ehtisham', 'Ali', 'Ayesha', 'Fizza', 'Dua', 'Azka', str(21), str(18)]\n",
    "\n",
    "#Note the separator is hash character\n",
    "mystr = ' '.join(mylist)\n",
    "\n",
    "print(mylist, type(mylist))\n",
    "print(mystr, type(mystr))"
   ]
  },
  {
   "cell_type": "markdown",
   "id": "21765270",
   "metadata": {},
   "source": [
    "### e. The `str.find()` method\n",
    "- The `str.find()` method is used to find a substring from within a string, which returns the first index at which a substring occurs in a string. If no instance of the substring is found, the method returns -1.\n",
    "```\n",
    "str.find(substring, start, end)\n",
    "```\n",
    "where \n",
    "    - `substring` is what we are searching for,\n",
    "    - `start` is the index from where we want to start searching (default value is 0)\n",
    "    - `end` is the index where we want to stop our search (default value is len(str) -1)"
   ]
  },
  {
   "cell_type": "code",
   "execution_count": null,
   "id": "27e79df9",
   "metadata": {},
   "outputs": [],
   "source": [
    "str1 = 'DataScienceToolsAndTechniques'\n",
    "print(len(str1))\n",
    "print(str1.find('Data'))\n",
    "print(str1.find('And1'))\n",
    "\n",
    "\n",
    "print(str1.find('S',2)) # second argument starts searching from that index\n",
    "print(str1.find('s',30)) # case sensitive\n",
    "\n",
    "print(str1.find('S',0, 4)) # third argument stops searching uptill that index\n",
    "print(str1.find('S',0, 5)) "
   ]
  },
  {
   "cell_type": "markdown",
   "id": "405fe9d3",
   "metadata": {},
   "source": [
    "### f. Use `str.replace()` method to find a substring\n",
    "- The `str.replace()` method returns a string after replacing all occurrences of `substring_to_be_replaced` with `new_string`.\n",
    "```\n",
    "str.replace(substring_to_be_replaced, new_string, count = -1)\n",
    "```\n",
    "- Note that `replace` returns a new string, and the original string is not modified.\n"
   ]
  },
  {
   "cell_type": "code",
   "execution_count": null,
   "id": "86327e2f",
   "metadata": {},
   "outputs": [],
   "source": [
    "str1=\"DS\"\n",
    "help(str1.replace)"
   ]
  },
  {
   "cell_type": "code",
   "execution_count": null,
   "id": "486b6076",
   "metadata": {},
   "outputs": [],
   "source": [
    "a = \"hello\"\n",
    "print(a.replace(\"e\",\"a\"))\n",
    "print(a)"
   ]
  },
  {
   "cell_type": "code",
   "execution_count": null,
   "id": "20605e63",
   "metadata": {},
   "outputs": [],
   "source": [
    "str1 = 'Welcome to Learning Data Science with Ehtisham Sadiq'\n",
    "newstring = str1.replace('Data Science', 'Life')\n",
    "print(str1)\n",
    "print(newstring)"
   ]
  },
  {
   "cell_type": "markdown",
   "id": "3dea6ff3",
   "metadata": {},
   "source": [
    "### g. The `str.format()` method\n",
    "- The `str.format()` method combines values of other data types, e.g., integers, floats, booleans, lists, etc. with strings. \n",
    "- You can use `str.format()` to construct output messages for display in the Python built-in `print()` function.\n",
    "- You put placeholders `{}` within the format string of `print()` function, and the arguments to the `str.format()` method are the variable names\n",
    "- The values of the variables are replaced with the arguments provided to the `str.format()` method."
   ]
  },
  {
   "cell_type": "code",
   "execution_count": null,
   "id": "7710aa52",
   "metadata": {},
   "outputs": [],
   "source": [
    "#Example 1:\n",
    "age = 21\n",
    "name=\"Ehtisham Sadiq\"\n",
    "\n",
    "print(\"Mr. {}, you are {} years old.\" .format(name, age))"
   ]
  },
  {
   "cell_type": "code",
   "execution_count": null,
   "id": "c85ac520",
   "metadata": {},
   "outputs": [],
   "source": [
    "#Example 2:\n",
    "name=\"Hadeed Butt\"\n",
    "cost = 100\n",
    "discount = .2\n",
    "bill = cost - cost * discount\n",
    "\n",
    "print(\"Mr. {2}, your total cost is {1}, percentage discount is {3}, and bill is {1}\" \n",
    "      . format(bill, cost, name, discount))"
   ]
  },
  {
   "cell_type": "code",
   "execution_count": null,
   "id": "da50f87f",
   "metadata": {},
   "outputs": [],
   "source": []
  },
  {
   "cell_type": "code",
   "execution_count": null,
   "id": "d9973167",
   "metadata": {},
   "outputs": [],
   "source": [
    "name = \"Ehtisham\"\n",
    "age = 21\n",
    "print(f\"My name is {name} and my age is {age}\")"
   ]
  },
  {
   "cell_type": "code",
   "execution_count": null,
   "id": "21107aa9",
   "metadata": {},
   "outputs": [],
   "source": []
  },
  {
   "cell_type": "code",
   "execution_count": null,
   "id": "bfed089b",
   "metadata": {},
   "outputs": [],
   "source": []
  },
  {
   "cell_type": "code",
   "execution_count": null,
   "id": "af2a6078",
   "metadata": {},
   "outputs": [],
   "source": []
  },
  {
   "cell_type": "code",
   "execution_count": null,
   "id": "566fc9ea",
   "metadata": {},
   "outputs": [],
   "source": []
  },
  {
   "cell_type": "markdown",
   "id": "0a38ce10",
   "metadata": {},
   "source": [
    "## Check your Concepts\n",
    "\n",
    "Try answering the following questions to test your understanding of the topics covered in this notebook:\n",
    "\n",
    "1. What are the container types available in Python?\n",
    "2. What kind of data does the String data type represent?\n",
    "3. What are the different ways of creating strings in Python?\n",
    "4. What is the difference between strings created using single quotes, i.e. `'` and `'` vs. those created using double quotes, i.e. `\"` and `\"`?\n",
    "5. How do you create multi-line strings in Python?\n",
    "6. What is the newline character, `\\n`?\n",
    "7. What are escaped characters? How are they useful?\n",
    "8. How do you check the length of a string?\n",
    "9. How do you convert a string into a list of characters?\n",
    "10. How do you access a specific character from a string?\n",
    "11. How do you access a range of characters from a string?\n",
    "12. How do you check if a specific character occurs in a string?\n",
    "13. How do you check if a smaller string occurs within a bigger string?\n",
    "14. How do you join two or more strings?\n",
    "15. What are \"methods\" in Python? How are they different from functions?\n",
    "16. What do the `.count`, `.isalnum` and `.isalpha` methods on strings do?\n",
    "17. How do you replace a specific part of a string with something else?\n",
    "18. How do you split the string \"Sun,Mon,Tue,Wed,Thu,Fri,Sat\" into a list of days?\n",
    "19. How do you remove whitespace from the beginning and end of a string?\n",
    "20. What is the string `.format` method used for? Can you give an example?\n",
    "21. What are the benefits of using the `.format` method instead of string concatenation?\n",
    "22. How do you convert a value of another type to a string?\n",
    "23. How do you check if two strings have the same value?\n",
    "24. Where can you find the list of all the methods supported by strings?"
   ]
  },
  {
   "cell_type": "code",
   "execution_count": null,
   "id": "93310351",
   "metadata": {},
   "outputs": [],
   "source": []
  }
 ],
 "metadata": {
  "kernelspec": {
   "display_name": "Python 3 (ipykernel)",
   "language": "python",
   "name": "python3"
  },
  "language_info": {
   "codemirror_mode": {
    "name": "ipython",
    "version": 3
   },
   "file_extension": ".py",
   "mimetype": "text/x-python",
   "name": "python",
   "nbconvert_exporter": "python",
   "pygments_lexer": "ipython3",
   "version": "3.8.10"
  }
 },
 "nbformat": 4,
 "nbformat_minor": 5
}
